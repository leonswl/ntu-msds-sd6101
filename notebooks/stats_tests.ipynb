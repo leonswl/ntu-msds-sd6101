{
 "cells": [
  {
   "attachments": {},
   "cell_type": "markdown",
   "metadata": {},
   "source": [
    "## Statistical Tests on Math Students dataset \n",
    "\n",
    "1. Chi-Square Test of Indepedence\n",
    "2. One-way ANOVA test for Variance Comparison"
   ]
  },
  {
   "cell_type": "code",
   "execution_count": 3,
   "metadata": {},
   "outputs": [],
   "source": [
    "# import dependencies\n",
    "import pandas as pd\n",
    "import numpy as np\n",
    "import plotly.express as px"
   ]
  },
  {
   "attachments": {},
   "cell_type": "markdown",
   "metadata": {},
   "source": [
    "listing out all the column names"
   ]
  },
  {
   "cell_type": "code",
   "execution_count": 4,
   "metadata": {},
   "outputs": [
    {
     "data": {
      "text/html": [
       "<div>\n",
       "<style scoped>\n",
       "    .dataframe tbody tr th:only-of-type {\n",
       "        vertical-align: middle;\n",
       "    }\n",
       "\n",
       "    .dataframe tbody tr th {\n",
       "        vertical-align: top;\n",
       "    }\n",
       "\n",
       "    .dataframe thead th {\n",
       "        text-align: right;\n",
       "    }\n",
       "</style>\n",
       "<table border=\"1\" class=\"dataframe\">\n",
       "  <thead>\n",
       "    <tr style=\"text-align: right;\">\n",
       "      <th></th>\n",
       "      <th>school</th>\n",
       "      <th>sex</th>\n",
       "      <th>age</th>\n",
       "      <th>address</th>\n",
       "      <th>famsize</th>\n",
       "      <th>Pstatus</th>\n",
       "      <th>Medu</th>\n",
       "      <th>Fedu</th>\n",
       "      <th>Mjob</th>\n",
       "      <th>Fjob</th>\n",
       "      <th>...</th>\n",
       "      <th>famrel</th>\n",
       "      <th>freetime</th>\n",
       "      <th>goout</th>\n",
       "      <th>Dalc</th>\n",
       "      <th>Walc</th>\n",
       "      <th>health</th>\n",
       "      <th>absences</th>\n",
       "      <th>G1</th>\n",
       "      <th>G2</th>\n",
       "      <th>G3</th>\n",
       "    </tr>\n",
       "  </thead>\n",
       "  <tbody>\n",
       "    <tr>\n",
       "      <th>0</th>\n",
       "      <td>GP</td>\n",
       "      <td>F</td>\n",
       "      <td>18</td>\n",
       "      <td>U</td>\n",
       "      <td>GT3</td>\n",
       "      <td>A</td>\n",
       "      <td>4</td>\n",
       "      <td>4</td>\n",
       "      <td>at_home</td>\n",
       "      <td>teacher</td>\n",
       "      <td>...</td>\n",
       "      <td>4</td>\n",
       "      <td>3</td>\n",
       "      <td>4</td>\n",
       "      <td>1</td>\n",
       "      <td>1</td>\n",
       "      <td>3</td>\n",
       "      <td>6</td>\n",
       "      <td>5</td>\n",
       "      <td>6</td>\n",
       "      <td>6</td>\n",
       "    </tr>\n",
       "    <tr>\n",
       "      <th>1</th>\n",
       "      <td>GP</td>\n",
       "      <td>F</td>\n",
       "      <td>17</td>\n",
       "      <td>U</td>\n",
       "      <td>GT3</td>\n",
       "      <td>T</td>\n",
       "      <td>1</td>\n",
       "      <td>1</td>\n",
       "      <td>at_home</td>\n",
       "      <td>other</td>\n",
       "      <td>...</td>\n",
       "      <td>5</td>\n",
       "      <td>3</td>\n",
       "      <td>3</td>\n",
       "      <td>1</td>\n",
       "      <td>1</td>\n",
       "      <td>3</td>\n",
       "      <td>4</td>\n",
       "      <td>5</td>\n",
       "      <td>5</td>\n",
       "      <td>6</td>\n",
       "    </tr>\n",
       "    <tr>\n",
       "      <th>2</th>\n",
       "      <td>GP</td>\n",
       "      <td>F</td>\n",
       "      <td>15</td>\n",
       "      <td>U</td>\n",
       "      <td>LE3</td>\n",
       "      <td>T</td>\n",
       "      <td>1</td>\n",
       "      <td>1</td>\n",
       "      <td>at_home</td>\n",
       "      <td>other</td>\n",
       "      <td>...</td>\n",
       "      <td>4</td>\n",
       "      <td>3</td>\n",
       "      <td>2</td>\n",
       "      <td>2</td>\n",
       "      <td>3</td>\n",
       "      <td>3</td>\n",
       "      <td>10</td>\n",
       "      <td>7</td>\n",
       "      <td>8</td>\n",
       "      <td>10</td>\n",
       "    </tr>\n",
       "    <tr>\n",
       "      <th>3</th>\n",
       "      <td>GP</td>\n",
       "      <td>F</td>\n",
       "      <td>15</td>\n",
       "      <td>U</td>\n",
       "      <td>GT3</td>\n",
       "      <td>T</td>\n",
       "      <td>4</td>\n",
       "      <td>2</td>\n",
       "      <td>health</td>\n",
       "      <td>services</td>\n",
       "      <td>...</td>\n",
       "      <td>3</td>\n",
       "      <td>2</td>\n",
       "      <td>2</td>\n",
       "      <td>1</td>\n",
       "      <td>1</td>\n",
       "      <td>5</td>\n",
       "      <td>2</td>\n",
       "      <td>15</td>\n",
       "      <td>14</td>\n",
       "      <td>15</td>\n",
       "    </tr>\n",
       "    <tr>\n",
       "      <th>4</th>\n",
       "      <td>GP</td>\n",
       "      <td>F</td>\n",
       "      <td>16</td>\n",
       "      <td>U</td>\n",
       "      <td>GT3</td>\n",
       "      <td>T</td>\n",
       "      <td>3</td>\n",
       "      <td>3</td>\n",
       "      <td>other</td>\n",
       "      <td>other</td>\n",
       "      <td>...</td>\n",
       "      <td>4</td>\n",
       "      <td>3</td>\n",
       "      <td>2</td>\n",
       "      <td>1</td>\n",
       "      <td>2</td>\n",
       "      <td>5</td>\n",
       "      <td>4</td>\n",
       "      <td>6</td>\n",
       "      <td>10</td>\n",
       "      <td>10</td>\n",
       "    </tr>\n",
       "  </tbody>\n",
       "</table>\n",
       "<p>5 rows × 33 columns</p>\n",
       "</div>"
      ],
      "text/plain": [
       "  school sex  age address famsize Pstatus  Medu  Fedu     Mjob      Fjob  ...  \\\n",
       "0     GP   F   18       U     GT3       A     4     4  at_home   teacher  ...   \n",
       "1     GP   F   17       U     GT3       T     1     1  at_home     other  ...   \n",
       "2     GP   F   15       U     LE3       T     1     1  at_home     other  ...   \n",
       "3     GP   F   15       U     GT3       T     4     2   health  services  ...   \n",
       "4     GP   F   16       U     GT3       T     3     3    other     other  ...   \n",
       "\n",
       "  famrel freetime  goout  Dalc  Walc health absences  G1  G2  G3  \n",
       "0      4        3      4     1     1      3        6   5   6   6  \n",
       "1      5        3      3     1     1      3        4   5   5   6  \n",
       "2      4        3      2     2     3      3       10   7   8  10  \n",
       "3      3        2      2     1     1      5        2  15  14  15  \n",
       "4      4        3      2     1     2      5        4   6  10  10  \n",
       "\n",
       "[5 rows x 33 columns]"
      ]
     },
     "execution_count": 4,
     "metadata": {},
     "output_type": "execute_result"
    }
   ],
   "source": [
    "data_mat = pd.read_csv(\"../artifacts/raw/middle-student-mat.csv\",sep=\";\")\n",
    "data_mat.head()"
   ]
  },
  {
   "attachments": {},
   "cell_type": "markdown",
   "metadata": {},
   "source": [
    "Due to the large number of attributes, we narrowed our scope to focus on features that are uncontrollable by students (i.e. Students inherent background). These features include:\n",
    "\n",
    "- School\n",
    "- Sex\n",
    "- Age\n",
    "- Address\n",
    "- Famsize (Family Size)\n",
    "- Pstatus (Parent's Cohabitation Status)\n",
    "- Medu (Mother's Education)\n",
    "- Fedu (Father's Education)\n",
    "- Mjob (Mother's Job)\n",
    "- Fjob (Father's Job)\n",
    "- Reason (Reason to choose this school)\n",
    "- Nursery (attended nursery school)\n"
   ]
  },
  {
   "cell_type": "code",
   "execution_count": 3,
   "metadata": {},
   "outputs": [
    {
     "data": {
      "text/plain": [
       "['school',\n",
       " 'sex',\n",
       " 'age',\n",
       " 'address',\n",
       " 'famsize',\n",
       " 'Pstatus',\n",
       " 'Medu',\n",
       " 'Fedu',\n",
       " 'Mjob',\n",
       " 'Fjob',\n",
       " 'reason',\n",
       " 'nursery']"
      ]
     },
     "execution_count": 3,
     "metadata": {},
     "output_type": "execute_result"
    }
   ],
   "source": [
    "independent_feat = ['school','sex','age','address','famsize','Pstatus','Medu','Fedu','Mjob', 'Fjob','reason','nursery']\n",
    "independent_feat"
   ]
  },
  {
   "cell_type": "code",
   "execution_count": 4,
   "metadata": {},
   "outputs": [
    {
     "data": {
      "text/plain": [
       "['G3']"
      ]
     },
     "execution_count": 4,
     "metadata": {},
     "output_type": "execute_result"
    }
   ],
   "source": [
    "dependent_feat = ['G3']\n",
    "dependent_feat"
   ]
  },
  {
   "cell_type": "code",
   "execution_count": 5,
   "metadata": {},
   "outputs": [
    {
     "data": {
      "text/plain": [
       "array([18, 17, 15, 16, 19, 22, 20, 21])"
      ]
     },
     "execution_count": 5,
     "metadata": {},
     "output_type": "execute_result"
    }
   ],
   "source": [
    "# unique values for age\n",
    "data_mat['age'].unique()"
   ]
  },
  {
   "attachments": {},
   "cell_type": "markdown",
   "metadata": {},
   "source": [
    "## 1. Testing for correlation between Independent variables\n",
    "\n",
    "Before performing correlation between independent and dependent variables, we will need to test that the independent variables are truly independent of each other.\n",
    "\n",
    "We will use Chi Square test for Independence to verify this for categorical variables. Most of the variables are already categorical data except for `Age`. However, there are only 8 unique values for `Age` hence we will treat `Age` as a categorical variable for the test of independence.\n",
    "\n",
    "- Null Hypothesis: There is **no relationship** between the 2 variables\n",
    "- Alternate Hypothesis: There is **a relationship** betwen the 2 variables"
   ]
  },
  {
   "cell_type": "code",
   "execution_count": 6,
   "metadata": {},
   "outputs": [],
   "source": [
    "import scipy.stats as stats"
   ]
  },
  {
   "cell_type": "code",
   "execution_count": 7,
   "metadata": {},
   "outputs": [],
   "source": [
    "def calculate_chi_square_results(features, df):\n",
    "    \"\"\"\n",
    "    Calculates chi-square test results for all possible pairs of features in a given data matrix.\n",
    "    \n",
    "    Parameters:\n",
    "        independent_feat (list): List of feature names to compare\n",
    "        data_mat (pandas.DataFrame): Data matrix containing the features\n",
    "    \n",
    "    Returns:\n",
    "        chi_sqr_res_lst (list): List of dictionaries containing chi-square test results for each pair of features\n",
    "    \"\"\"\n",
    "    chi_sqr_res_lst = []  # Initialize an empty list to store the results\n",
    "    \n",
    "    # Loop over all possible pairs of features\n",
    "    for i in range(len(features)):\n",
    "        for j in range(i+1, len(features)):\n",
    "            # Calculate crosstabulation for the two features\n",
    "            crosstab = pd.crosstab(df[features[i]],df[features[j]])\n",
    "            # Perform chi-square test on the crosstabulation\n",
    "            res = stats.chi2_contingency(crosstab)\n",
    "            # Store the results in a dictionary\n",
    "            results_dict = {\n",
    "                'variables': (features[i], features[j]),\n",
    "                'pvalue': res.pvalue,\n",
    "                'statistics': res.statistic,\n",
    "                'dof': res.dof,\n",
    "                'expected_freq': res.expected_freq,\n",
    "            }\n",
    "            # Append the dictionary to the results list\n",
    "            chi_sqr_res_lst.append(results_dict)\n",
    "    \n",
    "    return chi_sqr_res_lst\n",
    "\n",
    "def print_significant_results(chi_sqr_res_lst):\n",
    "    \"\"\"\n",
    "    Prints the variables and p-values for all significant chi-square test results in a list of results.\n",
    "    A result is considered significant if its p-value is less than 0.05.\n",
    "    \n",
    "    Parameters:\n",
    "        chi_sqr_res_lst (list): List of dictionaries containing chi-square test results for each pair of features\n",
    "    \n",
    "    Returns:\n",
    "        None\n",
    "    \"\"\"\n",
    "    count = 0\n",
    "    data = {}\n",
    "    # Loop over all results in the list\n",
    "    for results in chi_sqr_res_lst:\n",
    "        # Get the p-value and variables for the current result\n",
    "        pvalue = float(results.get('pvalue'))\n",
    "        variables = results.get('variables')\n",
    "        \n",
    "        # Check if the result is significant\n",
    "        if pvalue < 0.05:\n",
    "            # Print the variables and p-value, rounded to 4 decimal places\n",
    "            print(variables, pvalue)\n",
    "            count+=1\n",
    "\n",
    "    if count == 0:\n",
    "        print(\"There are no variables that have relationship with each other\")"
   ]
  },
  {
   "cell_type": "code",
   "execution_count": 8,
   "metadata": {},
   "outputs": [
    {
     "name": "stdout",
     "output_type": "stream",
     "text": [
      "('school', 'age') 2.8253973276676154e-13\n",
      "('school', 'address') 7.77068354957483e-08\n",
      "('school', 'Medu') 0.00031360912544192357\n",
      "('school', 'reason') 0.005947834009263454\n",
      "('sex', 'Mjob') 0.0015564385627536573\n",
      "('age', 'address') 0.0034680030378527907\n",
      "('address', 'Medu') 0.019257159259757555\n",
      "('address', 'Mjob') 0.01013724484686267\n",
      "('address', 'reason') 0.021804456830089435\n",
      "('famsize', 'Pstatus') 0.00524754575877353\n",
      "('Pstatus', 'Medu') 0.010369983537476098\n",
      "('Medu', 'Fedu') 8.014562451932377e-34\n",
      "('Medu', 'Mjob') 7.752732260542515e-39\n",
      "('Medu', 'Fjob') 4.8280932164911185e-06\n",
      "('Medu', 'nursery') 0.00026084822887275803\n",
      "('Fedu', 'Mjob') 4.206183361043177e-08\n",
      "('Fedu', 'Fjob') 9.007362084326286e-16\n",
      "('Fedu', 'nursery') 0.02068060288889864\n",
      "('Mjob', 'Fjob') 2.533576541234461e-09\n",
      "('Mjob', 'reason') 0.02818547173558085\n"
     ]
    }
   ],
   "source": [
    "chi_sqr_res_lst = calculate_chi_square_results(features=independent_feat, df=data_mat)\n",
    "dict_chisqr = print_significant_results(chi_sqr_res_lst)"
   ]
  },
  {
   "attachments": {},
   "cell_type": "markdown",
   "metadata": {},
   "source": [
    "Let's drop school, address, Fedu, Medu, Fjob and Pstatus and check for relationships using chi square again"
   ]
  },
  {
   "cell_type": "code",
   "execution_count": 9,
   "metadata": {},
   "outputs": [
    {
     "data": {
      "text/plain": [
       "['sex', 'age', 'famsize', 'Fjob', 'reason', 'nursery']"
      ]
     },
     "execution_count": 9,
     "metadata": {},
     "output_type": "execute_result"
    }
   ],
   "source": [
    "new_categorical_feats = [feat for feat in independent_feat if feat not in ['school', 'address', 'Fedu', 'Medu','Mjob','Pstatus']]\n",
    "new_categorical_feats"
   ]
  },
  {
   "cell_type": "code",
   "execution_count": 10,
   "metadata": {},
   "outputs": [
    {
     "name": "stdout",
     "output_type": "stream",
     "text": [
      "There are no variables that have relationship with each other\n"
     ]
    }
   ],
   "source": [
    "new_chi_sqr_res_lst = calculate_chi_square_results(features=new_categorical_feats, df=data_mat)\n",
    "print_significant_results(new_chi_sqr_res_lst)"
   ]
  },
  {
   "attachments": {},
   "cell_type": "markdown",
   "metadata": {},
   "source": [
    "With Chi Square Test of Independence, we can conclude that without the following features - school, address, Fedu, Medu, Fjob and Pstatus, the remaining features *('sex', 'age', 'famsize', 'Mjob', 'reason', 'nursery')* are independent of each other."
   ]
  },
  {
   "attachments": {},
   "cell_type": "markdown",
   "metadata": {},
   "source": [
    "## 2. Split Features for T-Test and ANOVA\n",
    "\n",
    "Dependeing of the number of sample groups within each categorical feature, that will determine if we should use ANOVA or t-test. Features with more than 2 sample groups will run ANOVA test, while features with 2 sample groups will be tested with t-test."
   ]
  },
  {
   "cell_type": "code",
   "execution_count": 11,
   "metadata": {},
   "outputs": [],
   "source": [
    "def split_features_by_test(df, feat_lst):\n",
    "    \"\"\"\n",
    "    Splits the independent features of a dataset into two lists, one for t-tests and one for ANOVA.\n",
    "\n",
    "    Parameters:\n",
    "    df: a pandas DataFrame containing the dataset\n",
    "    independent_feat: a list of the names of the independent features\n",
    "\n",
    "    Returns:\n",
    "    Two lists of the names of the independent features, one for t-tests and one for ANOVA.\n",
    "    \"\"\"\n",
    "\n",
    "    # Initialize empty lists for the t-tests and ANOVA\n",
    "    ttest_lst = []\n",
    "    anova_lst = []\n",
    "\n",
    "    # Loop through each column in the independent features\n",
    "    for col in feat_lst:\n",
    "\n",
    "        # Check the number of unique values in the column\n",
    "        nuniques = df[col].nunique()\n",
    "\n",
    "        # If there are more than 2 unique values, add the column to the list for ANOVA\n",
    "        if nuniques > 2:\n",
    "            anova_lst.append(col)\n",
    "\n",
    "        # Otherwise, add the column to the list for t-tests\n",
    "        else:\n",
    "            ttest_lst.append(col)\n",
    "\n",
    "    # Return the lists of independent features for t-tests and ANOVA\n",
    "    return ttest_lst, anova_lst"
   ]
  },
  {
   "cell_type": "code",
   "execution_count": 12,
   "metadata": {},
   "outputs": [],
   "source": [
    "# split the categorical independent features \n",
    "# note that we are treating AGE as a categorical feature\n",
    "ttest_lst, anova_lst = split_features_by_test(data_mat, independent_feat)"
   ]
  },
  {
   "attachments": {},
   "cell_type": "markdown",
   "metadata": {},
   "source": [
    "## 3 Testing for Homogeneity of Variance\n",
    "\n",
    "- Null Hypothesis: The distribution, or “spread,” of scores around the mean of two or more samples are **considered equal**.\n",
    "- Alternative Hypothesis: The distribution, or “spread,” of scores around the mean of two or more samples are **not equal**."
   ]
  },
  {
   "cell_type": "code",
   "execution_count": 13,
   "metadata": {},
   "outputs": [],
   "source": [
    "from scipy.stats import levene\n",
    "\n",
    "def calculate_levene_tests(unique_array_lst, feats):\n",
    "    \"\"\"\n",
    "    Calculates the Levene test statistic and p-value for all possible number of sample groups.\n",
    "\n",
    "    Parameters:\n",
    "    unique_array_lst: a list of unique arrays to test. Length of array represents the number of sample groups. Minimum is 2.\n",
    "    feats: the name of the feature being tested\n",
    "\n",
    "    Returns:\n",
    "    A list of dictionaries containing the results of the Levene tests.\n",
    "    \"\"\"\n",
    "    \n",
    "    # Loop through each possible combination of unique arrays\n",
    "    for i in range(2, len(unique_array_lst) + 1):\n",
    "\n",
    "        # Select the first i unique arrays from the list\n",
    "        samples = unique_array_lst[:i]\n",
    "\n",
    "        # Calculate the Levene test statistic and p-value for the selected samples\n",
    "        stat, p = levene(*samples, center='median', proportiontocut=0.05)\n",
    "\n",
    "        # Create a dictionary with the results of the Levene test\n",
    "        levene_dict = {\n",
    "            'feature': feats, # The name of the feature being tested\n",
    "            'statistic': stat, # The calculated Levene test statistic\n",
    "            'pvalue': p # The calculated p-value\n",
    "        }\n",
    "\n",
    "    # Return the list of Levene test results\n",
    "    return levene_dict\n"
   ]
  },
  {
   "cell_type": "code",
   "execution_count": 66,
   "metadata": {},
   "outputs": [],
   "source": [
    "def get_sample_groups(df, feat_lst, scores):\n",
    "    \"\"\"\n",
    "    This function returns a list of dictionaries where each dictionary represents a feature in feat_lst\n",
    "    and its corresponding sample groups as arrays. Each dictionary will contain list of arrays, with each array representing the score values for each sample group. \n",
    "    \n",
    "    Args:\n",
    "        df (pandas DataFrame): The data to be used for testing\n",
    "        feat_lst (list): A list of feature names \n",
    "    \n",
    "    Returns:\n",
    "        list: A list of dictionaries representing each feature and its sample groups as arrays.\n",
    "    \"\"\"\n",
    "    sample_groups_array_lst = []\n",
    "    # Loop over each feature in ttest_lst\n",
    "    for feat in feat_lst:\n",
    "        # Get unique values of the current feature\n",
    "        sample_groups = df[feat].unique()\n",
    "        sample_group_array_lst = []\n",
    "        sample_group_name_lst = []\n",
    "        # Loop over each unique value and get the corresponding data points for that value\n",
    "        for i in range(len(sample_groups)):\n",
    "            df_sample_group = df.loc[df[feat] == sample_groups[i]]\n",
    "            # Append the data points as an array to sample_group_array_lst\n",
    "            sample_group_array_lst.append(df_sample_group[scores])\n",
    "            # append sample group name to sample_group_name_lst\n",
    "            sample_group_name_lst.append(sample_groups[i])\n",
    "        \n",
    "        # Create a dictionary to store the feature name and its corresponding sample groups as arrays\n",
    "        feature_array_dict = {\n",
    "            'feature': feat,\n",
    "            'sample_group_name_lst': sample_group_name_lst,\n",
    "            'sample_group_array_lst': sample_group_array_lst\n",
    "        }\n",
    "        # Append the dictionary to sample_groups_array_lst\n",
    "        sample_groups_array_lst.append(feature_array_dict)\n",
    "    \n",
    "    return sample_groups_array_lst\n"
   ]
  },
  {
   "attachments": {},
   "cell_type": "markdown",
   "metadata": {},
   "source": [
    "### 3.1 Testing for Homogeneity of Variance for t-test features"
   ]
  },
  {
   "cell_type": "code",
   "execution_count": 67,
   "metadata": {},
   "outputs": [
    {
     "data": {
      "text/plain": [
       "[{'feature': 'school',\n",
       "  'statistic': 0.8377081603117896,\n",
       "  'pvalue': 0.3606142973401584},\n",
       " {'feature': 'sex',\n",
       "  'statistic': 0.06847571965446789,\n",
       "  'pvalue': 0.7937062862303847},\n",
       " {'feature': 'address',\n",
       "  'statistic': 0.039462285189423164,\n",
       "  'pvalue': 0.8426383524673037},\n",
       " {'feature': 'famsize',\n",
       "  'statistic': 1.062426470207238,\n",
       "  'pvalue': 0.3032963295247042},\n",
       " {'feature': 'Pstatus',\n",
       "  'statistic': 0.483787387888353,\n",
       "  'pvalue': 0.48712285383963405},\n",
       " {'feature': 'nursery',\n",
       "  'statistic': 0.22789022933888387,\n",
       "  'pvalue': 0.6333579961143636}]"
      ]
     },
     "execution_count": 67,
     "metadata": {},
     "output_type": "execute_result"
    }
   ],
   "source": [
    "# retrieving arrays of sample groups from features that will be tested using t-test \n",
    "ttest_sample_groups_array_lst = get_sample_groups(data_mat, ttest_lst, 'G3')\n",
    "\n",
    "# run levene tests to determine if homogeneity of variance is satisfied\n",
    "ttest_levene_res_lst = []\n",
    "for item in ttest_sample_groups_array_lst:\n",
    "    feat = item.get('feature')\n",
    "    array_lst = item.get('sample_group_array_lst')\n",
    "\n",
    "    levene_dict = calculate_levene_tests(array_lst, feat)\n",
    "    ttest_levene_res_lst.append(levene_dict)\n",
    "\n",
    "ttest_levene_res_lst"
   ]
  },
  {
   "cell_type": "code",
   "execution_count": 68,
   "metadata": {},
   "outputs": [
    {
     "name": "stdout",
     "output_type": "stream",
     "text": [
      "school: welch's t-test\n",
      "sex: welch's t-test\n",
      "address: welch's t-test\n",
      "famsize: welch's t-test\n",
      "Pstatus: welch's t-test\n",
      "nursery: welch's t-test\n"
     ]
    }
   ],
   "source": [
    "for item in ttest_levene_res_lst:\n",
    "    if item.get('pvalue') < 0.05:\n",
    "        print(f\"{item.get('feature')}: student t-test\")\n",
    "    else:\n",
    "        print(f\"{item.get('feature')}: welch's t-test\")"
   ]
  },
  {
   "attachments": {},
   "cell_type": "markdown",
   "metadata": {},
   "source": [
    "We can see that all of the features for t-test here fail to meet the assumption of homogeneity of variance. We will go with Welch's t-test instead"
   ]
  },
  {
   "attachments": {},
   "cell_type": "markdown",
   "metadata": {},
   "source": [
    "### 3.2 Testing for Homogeneity of Variance for ANOVA features"
   ]
  },
  {
   "cell_type": "code",
   "execution_count": 69,
   "metadata": {},
   "outputs": [
    {
     "data": {
      "text/plain": [
       "[{'feature': 'age',\n",
       "  'statistic': 0.6184299930183529,\n",
       "  'pvalue': 0.7407570882158565},\n",
       " {'feature': 'Medu',\n",
       "  'statistic': 0.27005190957066255,\n",
       "  'pvalue': 0.8971999681625331},\n",
       " {'feature': 'Fedu',\n",
       "  'statistic': 0.2928719056858835,\n",
       "  'pvalue': 0.8825683002555373},\n",
       " {'feature': 'Mjob',\n",
       "  'statistic': 0.18960947683040633,\n",
       "  'pvalue': 0.9437753301264346},\n",
       " {'feature': 'Fjob',\n",
       "  'statistic': 0.938846216099165,\n",
       "  'pvalue': 0.44132948635335056},\n",
       " {'feature': 'reason',\n",
       "  'statistic': 0.8430266176142672,\n",
       "  'pvalue': 0.4709416983605361}]"
      ]
     },
     "execution_count": 69,
     "metadata": {},
     "output_type": "execute_result"
    }
   ],
   "source": [
    "# retrieving arrays of sample groups from features that will be tested using t-test \n",
    "anova_sample_groups_array_lst = get_sample_groups(data_mat, anova_lst, 'G3')\n",
    "\n",
    "# run levene tests to determine if homogeneity of variance is satisfied\n",
    "anova_levene_res_lst = []\n",
    "for item in anova_sample_groups_array_lst:\n",
    "    feat = item.get('feature')\n",
    "    array_lst = item.get('sample_group_array_lst')\n",
    "\n",
    "    levene_dict = calculate_levene_tests(array_lst, feat)\n",
    "    anova_levene_res_lst.append(levene_dict)\n",
    "\n",
    "anova_levene_res_lst"
   ]
  },
  {
   "cell_type": "code",
   "execution_count": 18,
   "metadata": {},
   "outputs": [
    {
     "name": "stdout",
     "output_type": "stream",
     "text": [
      "age: Kruskal-Wallis ANOVA\n",
      "Medu: Kruskal-Wallis ANOVA\n",
      "Fedu: Kruskal-Wallis ANOVA\n",
      "Mjob: Kruskal-Wallis ANOVA\n",
      "Fjob: Kruskal-Wallis ANOVA\n",
      "reason: Kruskal-Wallis ANOVA\n"
     ]
    }
   ],
   "source": [
    "for item in anova_levene_res_lst:\n",
    "    if item.get('pvalue') < 0.05:\n",
    "        print(f\"{item.get('feature')}: One-way ANOVA\")\n",
    "    else:\n",
    "        print(f\"{item.get('feature')}: Kruskal-Wallis ANOVA\")"
   ]
  },
  {
   "attachments": {},
   "cell_type": "markdown",
   "metadata": {},
   "source": [
    "We can see that all of the features for ANOVA here fail to meet the assumption of homogeneity of variance. We will go with Kruskal-Wallis ANOVA instead"
   ]
  },
  {
   "attachments": {},
   "cell_type": "markdown",
   "metadata": {},
   "source": [
    "## 4. Welch's T-test between Independent and Dependent Variable\n",
    "\n",
    "We will use Welch's t-test to compare the grade means against student's background. Only background features with 2 sample groups can be used to run the t-test. "
   ]
  },
  {
   "cell_type": "code",
   "execution_count": 19,
   "metadata": {},
   "outputs": [],
   "source": [
    "from scipy.stats import ttest_ind\n",
    "\n",
    "def run_ttest(array_lst, feat):\n",
    "    \"\"\"\n",
    "    Perform a t-test on two arrays and return the statistic and p-value.\n",
    "\n",
    "    Args:\n",
    "        array_lst (list): A list containing two arrays to compare.\n",
    "        feat (str): The feature name.\n",
    "\n",
    "    Returns:\n",
    "        dict: A dictionary containing the feature name, t-test statistic, and p-value.\n",
    "    \"\"\"\n",
    "    stats, p = ttest_ind(array_lst[0], array_lst[1], equal_var = False)\n",
    "    return {'feature': feat, 'statistic': stats, 'pvalue': p}\n"
   ]
  },
  {
   "cell_type": "code",
   "execution_count": 20,
   "metadata": {},
   "outputs": [
    {
     "data": {
      "text/plain": [
       "[{'feature': 'school',\n",
       "  'statistic': 0.9555475253722291,\n",
       "  'pvalue': 0.3431316933314036},\n",
       " {'feature': 'sex',\n",
       "  'statistic': -2.0650572003629564,\n",
       "  'pvalue': 0.03957700303089973},\n",
       " {'feature': 'address',\n",
       "  'statistic': 2.1101367617785494,\n",
       "  'pvalue': 0.03661381145664286},\n",
       " {'feature': 'famsize',\n",
       "  'statistic': -1.6942894182883583,\n",
       "  'pvalue': 0.09155470562414127},\n",
       " {'feature': 'Pstatus',\n",
       "  'statistic': 1.2196750248412154,\n",
       "  'pvalue': 0.228164691976038},\n",
       " {'feature': 'nursery',\n",
       "  'statistic': 1.0271053558051693,\n",
       "  'pvalue': 0.30635403814971324}]"
      ]
     },
     "execution_count": 20,
     "metadata": {},
     "output_type": "execute_result"
    }
   ],
   "source": [
    "ttest_res_lst = []\n",
    "for item in ttest_sample_groups_array_lst:\n",
    "    feat = item.get('feature')\n",
    "    array_lst = item.get('sample_group_array_lst')\n",
    "\n",
    "    ttest_dic = run_ttest(array_lst, feat)\n",
    "    ttest_res_lst.append(ttest_dic)\n",
    "ttest_res_lst"
   ]
  },
  {
   "cell_type": "code",
   "execution_count": 21,
   "metadata": {},
   "outputs": [
    {
     "name": "stdout",
     "output_type": "stream",
     "text": [
      "school: Unable to reject null hypothesis; There are no differences in means\n",
      "sex: Reject null hypothesis; There are significant differences in means\n",
      "address: Reject null hypothesis; There are significant differences in means\n",
      "famsize: Unable to reject null hypothesis; There are no differences in means\n",
      "Pstatus: Unable to reject null hypothesis; There are no differences in means\n",
      "nursery: Unable to reject null hypothesis; There are no differences in means\n"
     ]
    }
   ],
   "source": [
    "for item in ttest_res_lst:\n",
    "    if item.get('pvalue') < 0.05:\n",
    "        print(f\"{item.get('feature')}: Reject null hypothesis; There are significant differences in means\")\n",
    "    else:\n",
    "        print(f\"{item.get('feature')}: Unable to reject null hypothesis; There are no differences in means\")"
   ]
  },
  {
   "cell_type": "code",
   "execution_count": 57,
   "metadata": {},
   "outputs": [
    {
     "data": {
      "application/vnd.plotly.v1+json": {
       "config": {
        "plotlyServerURL": "https://plot.ly"
       },
       "data": [
        {
         "alignmentgroup": "True",
         "hovertemplate": "significance=not significant<br>pvalue=%{x}<br>feature=%{y}<extra></extra>",
         "legendgroup": "not significant",
         "marker": {
          "color": "palevioletred",
          "pattern": {
           "shape": ""
          }
         },
         "name": "not significant",
         "offsetgroup": "not significant",
         "orientation": "h",
         "showlegend": true,
         "textposition": "auto",
         "texttemplate": "%{x}",
         "type": "bar",
         "x": [
          0.3431316933314036,
          0.09155470562414127,
          0.228164691976038,
          0.30635403814971324
         ],
         "xaxis": "x",
         "y": [
          "school",
          "famsize",
          "Pstatus",
          "nursery"
         ],
         "yaxis": "y"
        },
        {
         "alignmentgroup": "True",
         "hovertemplate": "significance=significant<br>pvalue=%{x}<br>feature=%{y}<extra></extra>",
         "legendgroup": "significant",
         "marker": {
          "color": "seagreen",
          "pattern": {
           "shape": ""
          }
         },
         "name": "significant",
         "offsetgroup": "significant",
         "orientation": "h",
         "showlegend": true,
         "textposition": "auto",
         "texttemplate": "%{x}",
         "type": "bar",
         "x": [
          0.03957700303089973,
          0.03661381145664286
         ],
         "xaxis": "x",
         "y": [
          "sex",
          "address"
         ],
         "yaxis": "y"
        }
       ],
       "layout": {
        "barmode": "relative",
        "legend": {
         "title": {
          "text": "significance"
         },
         "tracegroupgap": 0
        },
        "margin": {
         "t": 60
        },
        "template": {
         "data": {
          "bar": [
           {
            "error_x": {
             "color": "#2a3f5f"
            },
            "error_y": {
             "color": "#2a3f5f"
            },
            "marker": {
             "line": {
              "color": "#E5ECF6",
              "width": 0.5
             },
             "pattern": {
              "fillmode": "overlay",
              "size": 10,
              "solidity": 0.2
             }
            },
            "type": "bar"
           }
          ],
          "barpolar": [
           {
            "marker": {
             "line": {
              "color": "#E5ECF6",
              "width": 0.5
             },
             "pattern": {
              "fillmode": "overlay",
              "size": 10,
              "solidity": 0.2
             }
            },
            "type": "barpolar"
           }
          ],
          "carpet": [
           {
            "aaxis": {
             "endlinecolor": "#2a3f5f",
             "gridcolor": "white",
             "linecolor": "white",
             "minorgridcolor": "white",
             "startlinecolor": "#2a3f5f"
            },
            "baxis": {
             "endlinecolor": "#2a3f5f",
             "gridcolor": "white",
             "linecolor": "white",
             "minorgridcolor": "white",
             "startlinecolor": "#2a3f5f"
            },
            "type": "carpet"
           }
          ],
          "choropleth": [
           {
            "colorbar": {
             "outlinewidth": 0,
             "ticks": ""
            },
            "type": "choropleth"
           }
          ],
          "contour": [
           {
            "colorbar": {
             "outlinewidth": 0,
             "ticks": ""
            },
            "colorscale": [
             [
              0,
              "#0d0887"
             ],
             [
              0.1111111111111111,
              "#46039f"
             ],
             [
              0.2222222222222222,
              "#7201a8"
             ],
             [
              0.3333333333333333,
              "#9c179e"
             ],
             [
              0.4444444444444444,
              "#bd3786"
             ],
             [
              0.5555555555555556,
              "#d8576b"
             ],
             [
              0.6666666666666666,
              "#ed7953"
             ],
             [
              0.7777777777777778,
              "#fb9f3a"
             ],
             [
              0.8888888888888888,
              "#fdca26"
             ],
             [
              1,
              "#f0f921"
             ]
            ],
            "type": "contour"
           }
          ],
          "contourcarpet": [
           {
            "colorbar": {
             "outlinewidth": 0,
             "ticks": ""
            },
            "type": "contourcarpet"
           }
          ],
          "heatmap": [
           {
            "colorbar": {
             "outlinewidth": 0,
             "ticks": ""
            },
            "colorscale": [
             [
              0,
              "#0d0887"
             ],
             [
              0.1111111111111111,
              "#46039f"
             ],
             [
              0.2222222222222222,
              "#7201a8"
             ],
             [
              0.3333333333333333,
              "#9c179e"
             ],
             [
              0.4444444444444444,
              "#bd3786"
             ],
             [
              0.5555555555555556,
              "#d8576b"
             ],
             [
              0.6666666666666666,
              "#ed7953"
             ],
             [
              0.7777777777777778,
              "#fb9f3a"
             ],
             [
              0.8888888888888888,
              "#fdca26"
             ],
             [
              1,
              "#f0f921"
             ]
            ],
            "type": "heatmap"
           }
          ],
          "heatmapgl": [
           {
            "colorbar": {
             "outlinewidth": 0,
             "ticks": ""
            },
            "colorscale": [
             [
              0,
              "#0d0887"
             ],
             [
              0.1111111111111111,
              "#46039f"
             ],
             [
              0.2222222222222222,
              "#7201a8"
             ],
             [
              0.3333333333333333,
              "#9c179e"
             ],
             [
              0.4444444444444444,
              "#bd3786"
             ],
             [
              0.5555555555555556,
              "#d8576b"
             ],
             [
              0.6666666666666666,
              "#ed7953"
             ],
             [
              0.7777777777777778,
              "#fb9f3a"
             ],
             [
              0.8888888888888888,
              "#fdca26"
             ],
             [
              1,
              "#f0f921"
             ]
            ],
            "type": "heatmapgl"
           }
          ],
          "histogram": [
           {
            "marker": {
             "pattern": {
              "fillmode": "overlay",
              "size": 10,
              "solidity": 0.2
             }
            },
            "type": "histogram"
           }
          ],
          "histogram2d": [
           {
            "colorbar": {
             "outlinewidth": 0,
             "ticks": ""
            },
            "colorscale": [
             [
              0,
              "#0d0887"
             ],
             [
              0.1111111111111111,
              "#46039f"
             ],
             [
              0.2222222222222222,
              "#7201a8"
             ],
             [
              0.3333333333333333,
              "#9c179e"
             ],
             [
              0.4444444444444444,
              "#bd3786"
             ],
             [
              0.5555555555555556,
              "#d8576b"
             ],
             [
              0.6666666666666666,
              "#ed7953"
             ],
             [
              0.7777777777777778,
              "#fb9f3a"
             ],
             [
              0.8888888888888888,
              "#fdca26"
             ],
             [
              1,
              "#f0f921"
             ]
            ],
            "type": "histogram2d"
           }
          ],
          "histogram2dcontour": [
           {
            "colorbar": {
             "outlinewidth": 0,
             "ticks": ""
            },
            "colorscale": [
             [
              0,
              "#0d0887"
             ],
             [
              0.1111111111111111,
              "#46039f"
             ],
             [
              0.2222222222222222,
              "#7201a8"
             ],
             [
              0.3333333333333333,
              "#9c179e"
             ],
             [
              0.4444444444444444,
              "#bd3786"
             ],
             [
              0.5555555555555556,
              "#d8576b"
             ],
             [
              0.6666666666666666,
              "#ed7953"
             ],
             [
              0.7777777777777778,
              "#fb9f3a"
             ],
             [
              0.8888888888888888,
              "#fdca26"
             ],
             [
              1,
              "#f0f921"
             ]
            ],
            "type": "histogram2dcontour"
           }
          ],
          "mesh3d": [
           {
            "colorbar": {
             "outlinewidth": 0,
             "ticks": ""
            },
            "type": "mesh3d"
           }
          ],
          "parcoords": [
           {
            "line": {
             "colorbar": {
              "outlinewidth": 0,
              "ticks": ""
             }
            },
            "type": "parcoords"
           }
          ],
          "pie": [
           {
            "automargin": true,
            "type": "pie"
           }
          ],
          "scatter": [
           {
            "fillpattern": {
             "fillmode": "overlay",
             "size": 10,
             "solidity": 0.2
            },
            "type": "scatter"
           }
          ],
          "scatter3d": [
           {
            "line": {
             "colorbar": {
              "outlinewidth": 0,
              "ticks": ""
             }
            },
            "marker": {
             "colorbar": {
              "outlinewidth": 0,
              "ticks": ""
             }
            },
            "type": "scatter3d"
           }
          ],
          "scattercarpet": [
           {
            "marker": {
             "colorbar": {
              "outlinewidth": 0,
              "ticks": ""
             }
            },
            "type": "scattercarpet"
           }
          ],
          "scattergeo": [
           {
            "marker": {
             "colorbar": {
              "outlinewidth": 0,
              "ticks": ""
             }
            },
            "type": "scattergeo"
           }
          ],
          "scattergl": [
           {
            "marker": {
             "colorbar": {
              "outlinewidth": 0,
              "ticks": ""
             }
            },
            "type": "scattergl"
           }
          ],
          "scattermapbox": [
           {
            "marker": {
             "colorbar": {
              "outlinewidth": 0,
              "ticks": ""
             }
            },
            "type": "scattermapbox"
           }
          ],
          "scatterpolar": [
           {
            "marker": {
             "colorbar": {
              "outlinewidth": 0,
              "ticks": ""
             }
            },
            "type": "scatterpolar"
           }
          ],
          "scatterpolargl": [
           {
            "marker": {
             "colorbar": {
              "outlinewidth": 0,
              "ticks": ""
             }
            },
            "type": "scatterpolargl"
           }
          ],
          "scatterternary": [
           {
            "marker": {
             "colorbar": {
              "outlinewidth": 0,
              "ticks": ""
             }
            },
            "type": "scatterternary"
           }
          ],
          "surface": [
           {
            "colorbar": {
             "outlinewidth": 0,
             "ticks": ""
            },
            "colorscale": [
             [
              0,
              "#0d0887"
             ],
             [
              0.1111111111111111,
              "#46039f"
             ],
             [
              0.2222222222222222,
              "#7201a8"
             ],
             [
              0.3333333333333333,
              "#9c179e"
             ],
             [
              0.4444444444444444,
              "#bd3786"
             ],
             [
              0.5555555555555556,
              "#d8576b"
             ],
             [
              0.6666666666666666,
              "#ed7953"
             ],
             [
              0.7777777777777778,
              "#fb9f3a"
             ],
             [
              0.8888888888888888,
              "#fdca26"
             ],
             [
              1,
              "#f0f921"
             ]
            ],
            "type": "surface"
           }
          ],
          "table": [
           {
            "cells": {
             "fill": {
              "color": "#EBF0F8"
             },
             "line": {
              "color": "white"
             }
            },
            "header": {
             "fill": {
              "color": "#C8D4E3"
             },
             "line": {
              "color": "white"
             }
            },
            "type": "table"
           }
          ]
         },
         "layout": {
          "annotationdefaults": {
           "arrowcolor": "#2a3f5f",
           "arrowhead": 0,
           "arrowwidth": 1
          },
          "autotypenumbers": "strict",
          "coloraxis": {
           "colorbar": {
            "outlinewidth": 0,
            "ticks": ""
           }
          },
          "colorscale": {
           "diverging": [
            [
             0,
             "#8e0152"
            ],
            [
             0.1,
             "#c51b7d"
            ],
            [
             0.2,
             "#de77ae"
            ],
            [
             0.3,
             "#f1b6da"
            ],
            [
             0.4,
             "#fde0ef"
            ],
            [
             0.5,
             "#f7f7f7"
            ],
            [
             0.6,
             "#e6f5d0"
            ],
            [
             0.7,
             "#b8e186"
            ],
            [
             0.8,
             "#7fbc41"
            ],
            [
             0.9,
             "#4d9221"
            ],
            [
             1,
             "#276419"
            ]
           ],
           "sequential": [
            [
             0,
             "#0d0887"
            ],
            [
             0.1111111111111111,
             "#46039f"
            ],
            [
             0.2222222222222222,
             "#7201a8"
            ],
            [
             0.3333333333333333,
             "#9c179e"
            ],
            [
             0.4444444444444444,
             "#bd3786"
            ],
            [
             0.5555555555555556,
             "#d8576b"
            ],
            [
             0.6666666666666666,
             "#ed7953"
            ],
            [
             0.7777777777777778,
             "#fb9f3a"
            ],
            [
             0.8888888888888888,
             "#fdca26"
            ],
            [
             1,
             "#f0f921"
            ]
           ],
           "sequentialminus": [
            [
             0,
             "#0d0887"
            ],
            [
             0.1111111111111111,
             "#46039f"
            ],
            [
             0.2222222222222222,
             "#7201a8"
            ],
            [
             0.3333333333333333,
             "#9c179e"
            ],
            [
             0.4444444444444444,
             "#bd3786"
            ],
            [
             0.5555555555555556,
             "#d8576b"
            ],
            [
             0.6666666666666666,
             "#ed7953"
            ],
            [
             0.7777777777777778,
             "#fb9f3a"
            ],
            [
             0.8888888888888888,
             "#fdca26"
            ],
            [
             1,
             "#f0f921"
            ]
           ]
          },
          "colorway": [
           "#636efa",
           "#EF553B",
           "#00cc96",
           "#ab63fa",
           "#FFA15A",
           "#19d3f3",
           "#FF6692",
           "#B6E880",
           "#FF97FF",
           "#FECB52"
          ],
          "font": {
           "color": "#2a3f5f"
          },
          "geo": {
           "bgcolor": "white",
           "lakecolor": "white",
           "landcolor": "#E5ECF6",
           "showlakes": true,
           "showland": true,
           "subunitcolor": "white"
          },
          "hoverlabel": {
           "align": "left"
          },
          "hovermode": "closest",
          "mapbox": {
           "style": "light"
          },
          "paper_bgcolor": "white",
          "plot_bgcolor": "#E5ECF6",
          "polar": {
           "angularaxis": {
            "gridcolor": "white",
            "linecolor": "white",
            "ticks": ""
           },
           "bgcolor": "#E5ECF6",
           "radialaxis": {
            "gridcolor": "white",
            "linecolor": "white",
            "ticks": ""
           }
          },
          "scene": {
           "xaxis": {
            "backgroundcolor": "#E5ECF6",
            "gridcolor": "white",
            "gridwidth": 2,
            "linecolor": "white",
            "showbackground": true,
            "ticks": "",
            "zerolinecolor": "white"
           },
           "yaxis": {
            "backgroundcolor": "#E5ECF6",
            "gridcolor": "white",
            "gridwidth": 2,
            "linecolor": "white",
            "showbackground": true,
            "ticks": "",
            "zerolinecolor": "white"
           },
           "zaxis": {
            "backgroundcolor": "#E5ECF6",
            "gridcolor": "white",
            "gridwidth": 2,
            "linecolor": "white",
            "showbackground": true,
            "ticks": "",
            "zerolinecolor": "white"
           }
          },
          "shapedefaults": {
           "line": {
            "color": "#2a3f5f"
           }
          },
          "ternary": {
           "aaxis": {
            "gridcolor": "white",
            "linecolor": "white",
            "ticks": ""
           },
           "baxis": {
            "gridcolor": "white",
            "linecolor": "white",
            "ticks": ""
           },
           "bgcolor": "#E5ECF6",
           "caxis": {
            "gridcolor": "white",
            "linecolor": "white",
            "ticks": ""
           }
          },
          "title": {
           "x": 0.05
          },
          "xaxis": {
           "automargin": true,
           "gridcolor": "white",
           "linecolor": "white",
           "ticks": "",
           "title": {
            "standoff": 15
           },
           "zerolinecolor": "white",
           "zerolinewidth": 2
          },
          "yaxis": {
           "automargin": true,
           "gridcolor": "white",
           "linecolor": "white",
           "ticks": "",
           "title": {
            "standoff": 15
           },
           "zerolinecolor": "white",
           "zerolinewidth": 2
          }
         }
        },
        "title": {
         "text": "Welch's T-test P-value results"
        },
        "xaxis": {
         "anchor": "y",
         "domain": [
          0,
          1
         ],
         "title": {
          "text": "P-value"
         }
        },
        "yaxis": {
         "anchor": "x",
         "categoryorder": "total descending",
         "domain": [
          0,
          1
         ],
         "title": {
          "text": "Features"
         }
        }
       }
      }
     },
     "metadata": {},
     "output_type": "display_data"
    }
   ],
   "source": [
    "ttest_res_df = pd.json_normalize(ttest_res_lst)\n",
    "ttest_res_df['significance'] = np.where(ttest_res_df['pvalue']<0.05, 'significant','not significant')\n",
    "\n",
    "px.bar(\n",
    "    ttest_res_df,\n",
    "    y='feature',\n",
    "    x='pvalue',\n",
    "    orientation='h',\n",
    "    color='significance',\n",
    "    text_auto = True,\n",
    "    color_discrete_map={\n",
    "    'significant': 'seagreen',\n",
    "    'not significant': 'palevioletred'\n",
    "    }\n",
    ").update_layout(\n",
    "    yaxis={'categoryorder':'total descending'},\n",
    "    xaxis_title = 'P-value',\n",
    "    yaxis_title = 'Features',\n",
    "    title = \"Welch's T-test P-value results\"\n",
    ")"
   ]
  },
  {
   "attachments": {},
   "cell_type": "markdown",
   "metadata": {},
   "source": [
    "With Welch's t-test, we can conclude that address and sex have a significant difference in their average grades for each group . "
   ]
  },
  {
   "attachments": {},
   "cell_type": "markdown",
   "metadata": {},
   "source": [
    "## 5. Analysing variance between sample groups \n",
    "\n",
    "Comparing Independent and Dependent Variable\n",
    "\n"
   ]
  },
  {
   "attachments": {},
   "cell_type": "markdown",
   "metadata": {},
   "source": [
    "### 5.1 Kruskal-Wallis one-way ANOVA Test\n",
    "\n",
    "We will use a Kruskal-Wallis one-way ANOVA for comparing variance across the average final grades (G3) against student's background. All background features will be used to check for differences.\n",
    "\n",
    "- Null Hypothesis: There is no difference in means of grades (G3)\n",
    "- Alternate Hypothesis: There is a difference in means of grades (G3)"
   ]
  },
  {
   "cell_type": "code",
   "execution_count": 22,
   "metadata": {},
   "outputs": [],
   "source": [
    "from scipy.stats import kruskal\n",
    "\n",
    "\n",
    "def kruskal_anova_test(array_lst:list, feat:str) -> dict:\n",
    "    #  Loop through each possible combination of unique arrays.\n",
    "    # the final i value will represent the total unique sample groups    \n",
    "    for i in range(2, len(array_lst) + 1):\n",
    "\n",
    "        # Select the first i unique arrays from the list\n",
    "        samples = array_lst[:i]\n",
    "\n",
    "    # Calculate the kruskal anova test statistic and p-value for the selected samples\n",
    "    stat, p = kruskal(*samples)\n",
    "\n",
    "    return {'feature': feat, 'statistics': stat, 'pvalue': p}\n",
    "\n",
    "\n",
    "def perform_kruskal_anova_test(sample_groups_array_lst: list) -> list:\n",
    "    \"\"\"\n",
    "    This function takes a list of dictionaries containing feature name and sample group arrays.\n",
    "    For each feature, it performs the kruskal anova test on all possible combinations of unique sample group arrays\n",
    "    and returns a list of dictionaries containing feature name, statistics, and p-value.\n",
    "\n",
    "    Args:\n",
    "    - anova_sample_groups_array_lst: A list of dictionaries containing feature name and sample group arrays.\n",
    "\n",
    "    Returns:\n",
    "    - A list of dictionaries containing feature name, statistics, and p-value.\n",
    "    \"\"\"\n",
    "\n",
    "    # Initialize an empty list to store the results of the anova test for each feature\n",
    "    anova_res_lst = []\n",
    "\n",
    "    # Iterate over each dictionary in the input list\n",
    "    for item in sample_groups_array_lst:\n",
    "        \n",
    "        # Extract the feature name and sample group arrays from the current dictionary\n",
    "        feat = item.get('feature')\n",
    "        array_lst = item.get('sample_group_array_lst')\n",
    "\n",
    "        anova_dict = kruskal_anova_test(array_lst, feat)\n",
    "\n",
    "        # Append the dictionary to the results list\n",
    "        anova_res_lst.append(anova_dict)\n",
    "\n",
    "    return anova_res_lst"
   ]
  },
  {
   "cell_type": "code",
   "execution_count": 23,
   "metadata": {},
   "outputs": [
    {
     "name": "stdout",
     "output_type": "stream",
     "text": [
      "{'feature': 'Medu', 'statistics': 24.103910687506048, 'pvalue': 7.613386492952347e-05}\n",
      "{'feature': 'Mjob', 'statistics': 16.12735349304479, 'pvalue': 0.002852949559040121}\n",
      "{'feature': 'Fedu', 'statistics': 14.677360044326205, 'pvalue': 0.00541937334595509}\n",
      "{'feature': 'age', 'statistics': 17.330358839380157, 'pvalue': 0.015385768830400775}\n",
      "{'feature': 'Fjob', 'statistics': 6.276433342109553, 'pvalue': 0.1794332992912423}\n",
      "{'feature': 'reason', 'statistics': 4.866384604018159, 'pvalue': 0.18184668454753602}\n"
     ]
    }
   ],
   "source": [
    "anova_res_lst = perform_kruskal_anova_test(anova_sample_groups_array_lst)\n",
    "anova_sorted_results = sorted(anova_res_lst, key=lambda x: x['pvalue'])\n",
    "for item in anova_sorted_results:\n",
    "    print(item)"
   ]
  },
  {
   "cell_type": "code",
   "execution_count": 58,
   "metadata": {},
   "outputs": [
    {
     "data": {
      "application/vnd.plotly.v1+json": {
       "config": {
        "plotlyServerURL": "https://plot.ly"
       },
       "data": [
        {
         "alignmentgroup": "True",
         "hovertemplate": "significance=significant<br>pvalue=%{x}<br>feature=%{y}<extra></extra>",
         "legendgroup": "significant",
         "marker": {
          "color": "seagreen",
          "pattern": {
           "shape": ""
          }
         },
         "name": "significant",
         "offsetgroup": "significant",
         "orientation": "h",
         "showlegend": true,
         "textposition": "auto",
         "texttemplate": "%{x}",
         "type": "bar",
         "x": [
          0.00007613386492952347,
          0.002852949559040121,
          0.00541937334595509,
          0.015385768830400775
         ],
         "xaxis": "x",
         "y": [
          "Medu",
          "Mjob",
          "Fedu",
          "age"
         ],
         "yaxis": "y"
        },
        {
         "alignmentgroup": "True",
         "hovertemplate": "significance=not significant<br>pvalue=%{x}<br>feature=%{y}<extra></extra>",
         "legendgroup": "not significant",
         "marker": {
          "color": "palevioletred",
          "pattern": {
           "shape": ""
          }
         },
         "name": "not significant",
         "offsetgroup": "not significant",
         "orientation": "h",
         "showlegend": true,
         "textposition": "auto",
         "texttemplate": "%{x}",
         "type": "bar",
         "x": [
          0.1794332992912423,
          0.18184668454753602
         ],
         "xaxis": "x",
         "y": [
          "Fjob",
          "reason"
         ],
         "yaxis": "y"
        }
       ],
       "layout": {
        "barmode": "relative",
        "legend": {
         "title": {
          "text": "significance"
         },
         "tracegroupgap": 0
        },
        "margin": {
         "t": 60
        },
        "template": {
         "data": {
          "bar": [
           {
            "error_x": {
             "color": "#2a3f5f"
            },
            "error_y": {
             "color": "#2a3f5f"
            },
            "marker": {
             "line": {
              "color": "#E5ECF6",
              "width": 0.5
             },
             "pattern": {
              "fillmode": "overlay",
              "size": 10,
              "solidity": 0.2
             }
            },
            "type": "bar"
           }
          ],
          "barpolar": [
           {
            "marker": {
             "line": {
              "color": "#E5ECF6",
              "width": 0.5
             },
             "pattern": {
              "fillmode": "overlay",
              "size": 10,
              "solidity": 0.2
             }
            },
            "type": "barpolar"
           }
          ],
          "carpet": [
           {
            "aaxis": {
             "endlinecolor": "#2a3f5f",
             "gridcolor": "white",
             "linecolor": "white",
             "minorgridcolor": "white",
             "startlinecolor": "#2a3f5f"
            },
            "baxis": {
             "endlinecolor": "#2a3f5f",
             "gridcolor": "white",
             "linecolor": "white",
             "minorgridcolor": "white",
             "startlinecolor": "#2a3f5f"
            },
            "type": "carpet"
           }
          ],
          "choropleth": [
           {
            "colorbar": {
             "outlinewidth": 0,
             "ticks": ""
            },
            "type": "choropleth"
           }
          ],
          "contour": [
           {
            "colorbar": {
             "outlinewidth": 0,
             "ticks": ""
            },
            "colorscale": [
             [
              0,
              "#0d0887"
             ],
             [
              0.1111111111111111,
              "#46039f"
             ],
             [
              0.2222222222222222,
              "#7201a8"
             ],
             [
              0.3333333333333333,
              "#9c179e"
             ],
             [
              0.4444444444444444,
              "#bd3786"
             ],
             [
              0.5555555555555556,
              "#d8576b"
             ],
             [
              0.6666666666666666,
              "#ed7953"
             ],
             [
              0.7777777777777778,
              "#fb9f3a"
             ],
             [
              0.8888888888888888,
              "#fdca26"
             ],
             [
              1,
              "#f0f921"
             ]
            ],
            "type": "contour"
           }
          ],
          "contourcarpet": [
           {
            "colorbar": {
             "outlinewidth": 0,
             "ticks": ""
            },
            "type": "contourcarpet"
           }
          ],
          "heatmap": [
           {
            "colorbar": {
             "outlinewidth": 0,
             "ticks": ""
            },
            "colorscale": [
             [
              0,
              "#0d0887"
             ],
             [
              0.1111111111111111,
              "#46039f"
             ],
             [
              0.2222222222222222,
              "#7201a8"
             ],
             [
              0.3333333333333333,
              "#9c179e"
             ],
             [
              0.4444444444444444,
              "#bd3786"
             ],
             [
              0.5555555555555556,
              "#d8576b"
             ],
             [
              0.6666666666666666,
              "#ed7953"
             ],
             [
              0.7777777777777778,
              "#fb9f3a"
             ],
             [
              0.8888888888888888,
              "#fdca26"
             ],
             [
              1,
              "#f0f921"
             ]
            ],
            "type": "heatmap"
           }
          ],
          "heatmapgl": [
           {
            "colorbar": {
             "outlinewidth": 0,
             "ticks": ""
            },
            "colorscale": [
             [
              0,
              "#0d0887"
             ],
             [
              0.1111111111111111,
              "#46039f"
             ],
             [
              0.2222222222222222,
              "#7201a8"
             ],
             [
              0.3333333333333333,
              "#9c179e"
             ],
             [
              0.4444444444444444,
              "#bd3786"
             ],
             [
              0.5555555555555556,
              "#d8576b"
             ],
             [
              0.6666666666666666,
              "#ed7953"
             ],
             [
              0.7777777777777778,
              "#fb9f3a"
             ],
             [
              0.8888888888888888,
              "#fdca26"
             ],
             [
              1,
              "#f0f921"
             ]
            ],
            "type": "heatmapgl"
           }
          ],
          "histogram": [
           {
            "marker": {
             "pattern": {
              "fillmode": "overlay",
              "size": 10,
              "solidity": 0.2
             }
            },
            "type": "histogram"
           }
          ],
          "histogram2d": [
           {
            "colorbar": {
             "outlinewidth": 0,
             "ticks": ""
            },
            "colorscale": [
             [
              0,
              "#0d0887"
             ],
             [
              0.1111111111111111,
              "#46039f"
             ],
             [
              0.2222222222222222,
              "#7201a8"
             ],
             [
              0.3333333333333333,
              "#9c179e"
             ],
             [
              0.4444444444444444,
              "#bd3786"
             ],
             [
              0.5555555555555556,
              "#d8576b"
             ],
             [
              0.6666666666666666,
              "#ed7953"
             ],
             [
              0.7777777777777778,
              "#fb9f3a"
             ],
             [
              0.8888888888888888,
              "#fdca26"
             ],
             [
              1,
              "#f0f921"
             ]
            ],
            "type": "histogram2d"
           }
          ],
          "histogram2dcontour": [
           {
            "colorbar": {
             "outlinewidth": 0,
             "ticks": ""
            },
            "colorscale": [
             [
              0,
              "#0d0887"
             ],
             [
              0.1111111111111111,
              "#46039f"
             ],
             [
              0.2222222222222222,
              "#7201a8"
             ],
             [
              0.3333333333333333,
              "#9c179e"
             ],
             [
              0.4444444444444444,
              "#bd3786"
             ],
             [
              0.5555555555555556,
              "#d8576b"
             ],
             [
              0.6666666666666666,
              "#ed7953"
             ],
             [
              0.7777777777777778,
              "#fb9f3a"
             ],
             [
              0.8888888888888888,
              "#fdca26"
             ],
             [
              1,
              "#f0f921"
             ]
            ],
            "type": "histogram2dcontour"
           }
          ],
          "mesh3d": [
           {
            "colorbar": {
             "outlinewidth": 0,
             "ticks": ""
            },
            "type": "mesh3d"
           }
          ],
          "parcoords": [
           {
            "line": {
             "colorbar": {
              "outlinewidth": 0,
              "ticks": ""
             }
            },
            "type": "parcoords"
           }
          ],
          "pie": [
           {
            "automargin": true,
            "type": "pie"
           }
          ],
          "scatter": [
           {
            "fillpattern": {
             "fillmode": "overlay",
             "size": 10,
             "solidity": 0.2
            },
            "type": "scatter"
           }
          ],
          "scatter3d": [
           {
            "line": {
             "colorbar": {
              "outlinewidth": 0,
              "ticks": ""
             }
            },
            "marker": {
             "colorbar": {
              "outlinewidth": 0,
              "ticks": ""
             }
            },
            "type": "scatter3d"
           }
          ],
          "scattercarpet": [
           {
            "marker": {
             "colorbar": {
              "outlinewidth": 0,
              "ticks": ""
             }
            },
            "type": "scattercarpet"
           }
          ],
          "scattergeo": [
           {
            "marker": {
             "colorbar": {
              "outlinewidth": 0,
              "ticks": ""
             }
            },
            "type": "scattergeo"
           }
          ],
          "scattergl": [
           {
            "marker": {
             "colorbar": {
              "outlinewidth": 0,
              "ticks": ""
             }
            },
            "type": "scattergl"
           }
          ],
          "scattermapbox": [
           {
            "marker": {
             "colorbar": {
              "outlinewidth": 0,
              "ticks": ""
             }
            },
            "type": "scattermapbox"
           }
          ],
          "scatterpolar": [
           {
            "marker": {
             "colorbar": {
              "outlinewidth": 0,
              "ticks": ""
             }
            },
            "type": "scatterpolar"
           }
          ],
          "scatterpolargl": [
           {
            "marker": {
             "colorbar": {
              "outlinewidth": 0,
              "ticks": ""
             }
            },
            "type": "scatterpolargl"
           }
          ],
          "scatterternary": [
           {
            "marker": {
             "colorbar": {
              "outlinewidth": 0,
              "ticks": ""
             }
            },
            "type": "scatterternary"
           }
          ],
          "surface": [
           {
            "colorbar": {
             "outlinewidth": 0,
             "ticks": ""
            },
            "colorscale": [
             [
              0,
              "#0d0887"
             ],
             [
              0.1111111111111111,
              "#46039f"
             ],
             [
              0.2222222222222222,
              "#7201a8"
             ],
             [
              0.3333333333333333,
              "#9c179e"
             ],
             [
              0.4444444444444444,
              "#bd3786"
             ],
             [
              0.5555555555555556,
              "#d8576b"
             ],
             [
              0.6666666666666666,
              "#ed7953"
             ],
             [
              0.7777777777777778,
              "#fb9f3a"
             ],
             [
              0.8888888888888888,
              "#fdca26"
             ],
             [
              1,
              "#f0f921"
             ]
            ],
            "type": "surface"
           }
          ],
          "table": [
           {
            "cells": {
             "fill": {
              "color": "#EBF0F8"
             },
             "line": {
              "color": "white"
             }
            },
            "header": {
             "fill": {
              "color": "#C8D4E3"
             },
             "line": {
              "color": "white"
             }
            },
            "type": "table"
           }
          ]
         },
         "layout": {
          "annotationdefaults": {
           "arrowcolor": "#2a3f5f",
           "arrowhead": 0,
           "arrowwidth": 1
          },
          "autotypenumbers": "strict",
          "coloraxis": {
           "colorbar": {
            "outlinewidth": 0,
            "ticks": ""
           }
          },
          "colorscale": {
           "diverging": [
            [
             0,
             "#8e0152"
            ],
            [
             0.1,
             "#c51b7d"
            ],
            [
             0.2,
             "#de77ae"
            ],
            [
             0.3,
             "#f1b6da"
            ],
            [
             0.4,
             "#fde0ef"
            ],
            [
             0.5,
             "#f7f7f7"
            ],
            [
             0.6,
             "#e6f5d0"
            ],
            [
             0.7,
             "#b8e186"
            ],
            [
             0.8,
             "#7fbc41"
            ],
            [
             0.9,
             "#4d9221"
            ],
            [
             1,
             "#276419"
            ]
           ],
           "sequential": [
            [
             0,
             "#0d0887"
            ],
            [
             0.1111111111111111,
             "#46039f"
            ],
            [
             0.2222222222222222,
             "#7201a8"
            ],
            [
             0.3333333333333333,
             "#9c179e"
            ],
            [
             0.4444444444444444,
             "#bd3786"
            ],
            [
             0.5555555555555556,
             "#d8576b"
            ],
            [
             0.6666666666666666,
             "#ed7953"
            ],
            [
             0.7777777777777778,
             "#fb9f3a"
            ],
            [
             0.8888888888888888,
             "#fdca26"
            ],
            [
             1,
             "#f0f921"
            ]
           ],
           "sequentialminus": [
            [
             0,
             "#0d0887"
            ],
            [
             0.1111111111111111,
             "#46039f"
            ],
            [
             0.2222222222222222,
             "#7201a8"
            ],
            [
             0.3333333333333333,
             "#9c179e"
            ],
            [
             0.4444444444444444,
             "#bd3786"
            ],
            [
             0.5555555555555556,
             "#d8576b"
            ],
            [
             0.6666666666666666,
             "#ed7953"
            ],
            [
             0.7777777777777778,
             "#fb9f3a"
            ],
            [
             0.8888888888888888,
             "#fdca26"
            ],
            [
             1,
             "#f0f921"
            ]
           ]
          },
          "colorway": [
           "#636efa",
           "#EF553B",
           "#00cc96",
           "#ab63fa",
           "#FFA15A",
           "#19d3f3",
           "#FF6692",
           "#B6E880",
           "#FF97FF",
           "#FECB52"
          ],
          "font": {
           "color": "#2a3f5f"
          },
          "geo": {
           "bgcolor": "white",
           "lakecolor": "white",
           "landcolor": "#E5ECF6",
           "showlakes": true,
           "showland": true,
           "subunitcolor": "white"
          },
          "hoverlabel": {
           "align": "left"
          },
          "hovermode": "closest",
          "mapbox": {
           "style": "light"
          },
          "paper_bgcolor": "white",
          "plot_bgcolor": "#E5ECF6",
          "polar": {
           "angularaxis": {
            "gridcolor": "white",
            "linecolor": "white",
            "ticks": ""
           },
           "bgcolor": "#E5ECF6",
           "radialaxis": {
            "gridcolor": "white",
            "linecolor": "white",
            "ticks": ""
           }
          },
          "scene": {
           "xaxis": {
            "backgroundcolor": "#E5ECF6",
            "gridcolor": "white",
            "gridwidth": 2,
            "linecolor": "white",
            "showbackground": true,
            "ticks": "",
            "zerolinecolor": "white"
           },
           "yaxis": {
            "backgroundcolor": "#E5ECF6",
            "gridcolor": "white",
            "gridwidth": 2,
            "linecolor": "white",
            "showbackground": true,
            "ticks": "",
            "zerolinecolor": "white"
           },
           "zaxis": {
            "backgroundcolor": "#E5ECF6",
            "gridcolor": "white",
            "gridwidth": 2,
            "linecolor": "white",
            "showbackground": true,
            "ticks": "",
            "zerolinecolor": "white"
           }
          },
          "shapedefaults": {
           "line": {
            "color": "#2a3f5f"
           }
          },
          "ternary": {
           "aaxis": {
            "gridcolor": "white",
            "linecolor": "white",
            "ticks": ""
           },
           "baxis": {
            "gridcolor": "white",
            "linecolor": "white",
            "ticks": ""
           },
           "bgcolor": "#E5ECF6",
           "caxis": {
            "gridcolor": "white",
            "linecolor": "white",
            "ticks": ""
           }
          },
          "title": {
           "x": 0.05
          },
          "xaxis": {
           "automargin": true,
           "gridcolor": "white",
           "linecolor": "white",
           "ticks": "",
           "title": {
            "standoff": 15
           },
           "zerolinecolor": "white",
           "zerolinewidth": 2
          },
          "yaxis": {
           "automargin": true,
           "gridcolor": "white",
           "linecolor": "white",
           "ticks": "",
           "title": {
            "standoff": 15
           },
           "zerolinecolor": "white",
           "zerolinewidth": 2
          }
         }
        },
        "title": {
         "text": "ANOVA P-value results"
        },
        "xaxis": {
         "anchor": "y",
         "domain": [
          0,
          1
         ],
         "title": {
          "text": "P-value"
         }
        },
        "yaxis": {
         "anchor": "x",
         "categoryorder": "total descending",
         "domain": [
          0,
          1
         ],
         "title": {
          "text": "Features"
         }
        }
       }
      }
     },
     "metadata": {},
     "output_type": "display_data"
    }
   ],
   "source": [
    "anova_res_df = pd.json_normalize(anova_sorted_results)\n",
    "anova_res_df['significance'] = np.where(anova_res_df['pvalue']<0.05, 'significant','not significant')\n",
    "\n",
    "px.bar(\n",
    "    anova_res_df,\n",
    "    y='feature',\n",
    "    x='pvalue',\n",
    "    orientation='h',\n",
    "    color='significance',\n",
    "    text_auto = True,\n",
    "    color_discrete_map={\n",
    "    'significant': 'seagreen',\n",
    "    'not significant': 'palevioletred'\n",
    "    }\n",
    ").update_layout(\n",
    "    yaxis={'categoryorder':'total descending'},\n",
    "    xaxis_title = 'P-value',\n",
    "    yaxis_title = 'Features',\n",
    "    title = \"ANOVA P-value results\"\n",
    ")"
   ]
  },
  {
   "cell_type": "code",
   "execution_count": 102,
   "metadata": {},
   "outputs": [],
   "source": [
    "def get_significant_variables(anova_res_lst: list) -> None:\n",
    "    \"\"\"\n",
    "    Get the variables that have a significant p-value (< 0.05) from a list of ANOVA results.\n",
    "\n",
    "    Args:\n",
    "        anova_res_lst (list): A list of dictionaries containing ANOVA results for different variables.\n",
    "            Each dictionary contains the variable name and its corresponding p-value.\n",
    "\n",
    "    Returns:\n",
    "        None: This function doesn't return anything, it just prints the significant variables.\n",
    "\n",
    "    \"\"\"\n",
    "    # Sort the list of ANOVA results by p-value in ascending order\n",
    "    sorted_results = sorted(anova_res_lst, key=lambda x: float(x.get('pvalue')))\n",
    "    \n",
    "    anova_sig_feats = []\n",
    "\n",
    "    # Iterate through each dictionary in the sorted list of ANOVA results\n",
    "    for result in sorted_results:\n",
    "        # Get the variable name and p-value from the current dictionary\n",
    "        variable = result.get('feature')\n",
    "        pvalue = float(result.get('pvalue'))\n",
    "        \n",
    "        # Check if the p-value is less than 0.05 (i.e. significant)\n",
    "        if pvalue < 0.05:\n",
    "            # If significant, print the variable name\n",
    "            anova_sig_feats.append(variable)\n",
    "\n",
    "    return anova_sig_feats"
   ]
  },
  {
   "cell_type": "code",
   "execution_count": 104,
   "metadata": {},
   "outputs": [
    {
     "data": {
      "text/plain": [
       "['Medu', 'Mjob', 'Fedu', 'age']"
      ]
     },
     "execution_count": 104,
     "metadata": {},
     "output_type": "execute_result"
    }
   ],
   "source": [
    "anova_sig_feats = get_significant_variables(anova_res_lst)\n",
    "anova_sig_feats"
   ]
  },
  {
   "attachments": {},
   "cell_type": "markdown",
   "metadata": {},
   "source": [
    "With one-way ANOVA, we can conclude that these features (Mother's Education, Father's Education, Mother's Job and Age) show differences in grades among the students, which might indicate that some background factors have an effect on students' grades. This also supports our initial hypothesis that parent's education play a big part in students' grades.  "
   ]
  },
  {
   "attachments": {},
   "cell_type": "markdown",
   "metadata": {},
   "source": [
    "### 5.2 Post Hoct test using Dunn's test\n",
    "\n",
    "- Null hypothesis:  The given sample have the same median\n",
    "- Alternative hypothesis:  The given sample has a different median."
   ]
  },
  {
   "cell_type": "code",
   "execution_count": 63,
   "metadata": {},
   "outputs": [],
   "source": [
    "import scikit_posthocs as sp\n",
    "p_values = sp.posthoc_dunn(anova_sample_groups_array_lst[0].get('sample_group_array_lst'))"
   ]
  },
  {
   "cell_type": "code",
   "execution_count": 105,
   "metadata": {},
   "outputs": [],
   "source": [
    "import scikit_posthocs as sp\n",
    "\n",
    "def perform_dunn_posthoc_test(anova_sample_groups_array_lst: list, anova_sig_feats:list) -> list:\n",
    "    \"\"\"\n",
    "    This function takes a list of dictionaries containing feature name, sample group arrays, and sample group names.\n",
    "    For each feature, it performs the Dunn posthoc test on the sample group arrays and returns a list of dictionaries\n",
    "    containing feature name and a pandas dataframe of pairwise p-values between the sample groups.\n",
    "\n",
    "    Args:\n",
    "    - anova_sample_groups_array_lst: A list of dictionaries containing feature name, sample group arrays, and sample group names.\n",
    "    - anova_sig_feats: a list of features that are significant and should perform dunn posthoc test\n",
    "\n",
    "    Returns:\n",
    "    - A list of dictionaries containing feature name and a pandas dataframe of pairwise p-values between the sample groups.\n",
    "    \"\"\"\n",
    "\n",
    "    # Initialize an empty list to store the results of the Dunn posthoc test for each feature\n",
    "    dunn_res_lst = []\n",
    "\n",
    "    # Iterate over each dictionary in the input list\n",
    "    for item in anova_sample_groups_array_lst:\n",
    "        \n",
    "        # Extract the feature name, sample group arrays, and sample group names from the current dictionary\n",
    "        feat = item.get('feature')\n",
    "\n",
    "        if feat in anova_sig_feats:\n",
    "            array_lst = item.get('sample_group_array_lst')\n",
    "            name_lst = item.get('sample_group_name_lst')\n",
    "\n",
    "            # Perform the Dunn posthoc test on the sample group arrays and store the pairwise p-values in a pandas dataframe\n",
    "            p_values = sp.posthoc_dunn(array_lst)\n",
    "            p_values.columns = name_lst\n",
    "            p_values.index = name_lst\n",
    "\n",
    "            # Create a dictionary to store the result of the Dunn posthoc test for the current feature\n",
    "            dunn_dict = {'feature': feat, 'pvalues':p_values}\n",
    "\n",
    "            # Append the dictionary to the results list\n",
    "            dunn_res_lst.append(dunn_dict)\n",
    "\n",
    "    return dunn_res_lst\n",
    "\n",
    "dunn_res_lst = perform_dunn_posthoc_test(anova_sample_groups_array_lst, anova_sig_feats)"
   ]
  },
  {
   "cell_type": "code",
   "execution_count": 126,
   "metadata": {},
   "outputs": [
    {
     "name": "stdout",
     "output_type": "stream",
     "text": [
      "age\n"
     ]
    },
    {
     "data": {
      "text/html": [
       "<style type=\"text/css\">\n",
       "#T_fd24d_row0_col2, #T_fd24d_row0_col3, #T_fd24d_row2_col0, #T_fd24d_row2_col4, #T_fd24d_row3_col0, #T_fd24d_row3_col4, #T_fd24d_row4_col2, #T_fd24d_row4_col3 {\n",
       "  color: red;\n",
       "}\n",
       "</style>\n",
       "<table id=\"T_fd24d\">\n",
       "  <thead>\n",
       "    <tr>\n",
       "      <th class=\"blank level0\" >&nbsp;</th>\n",
       "      <th id=\"T_fd24d_level0_col0\" class=\"col_heading level0 col0\" >18</th>\n",
       "      <th id=\"T_fd24d_level0_col1\" class=\"col_heading level0 col1\" >17</th>\n",
       "      <th id=\"T_fd24d_level0_col2\" class=\"col_heading level0 col2\" >15</th>\n",
       "      <th id=\"T_fd24d_level0_col3\" class=\"col_heading level0 col3\" >16</th>\n",
       "      <th id=\"T_fd24d_level0_col4\" class=\"col_heading level0 col4\" >19</th>\n",
       "      <th id=\"T_fd24d_level0_col5\" class=\"col_heading level0 col5\" >22</th>\n",
       "      <th id=\"T_fd24d_level0_col6\" class=\"col_heading level0 col6\" >20</th>\n",
       "      <th id=\"T_fd24d_level0_col7\" class=\"col_heading level0 col7\" >21</th>\n",
       "    </tr>\n",
       "  </thead>\n",
       "  <tbody>\n",
       "    <tr>\n",
       "      <th id=\"T_fd24d_level0_row0\" class=\"row_heading level0 row0\" >18</th>\n",
       "      <td id=\"T_fd24d_row0_col0\" class=\"data row0 col0\" >1.000000</td>\n",
       "      <td id=\"T_fd24d_row0_col1\" class=\"data row0 col1\" >0.334790</td>\n",
       "      <td id=\"T_fd24d_row0_col2\" class=\"data row0 col2\" >0.013428</td>\n",
       "      <td id=\"T_fd24d_row0_col3\" class=\"data row0 col3\" >0.026899</td>\n",
       "      <td id=\"T_fd24d_row0_col4\" class=\"data row0 col4\" >0.234442</td>\n",
       "      <td id=\"T_fd24d_row0_col5\" class=\"data row0 col5\" >0.430545</td>\n",
       "      <td id=\"T_fd24d_row0_col6\" class=\"data row0 col6\" >0.123260</td>\n",
       "      <td id=\"T_fd24d_row0_col7\" class=\"data row0 col7\" >0.333305</td>\n",
       "    </tr>\n",
       "    <tr>\n",
       "      <th id=\"T_fd24d_level0_row1\" class=\"row_heading level0 row1\" >17</th>\n",
       "      <td id=\"T_fd24d_row1_col0\" class=\"data row1 col0\" >0.334790</td>\n",
       "      <td id=\"T_fd24d_row1_col1\" class=\"data row1 col1\" >1.000000</td>\n",
       "      <td id=\"T_fd24d_row1_col2\" class=\"data row1 col2\" >0.106260</td>\n",
       "      <td id=\"T_fd24d_row1_col3\" class=\"data row1 col3\" >0.194935</td>\n",
       "      <td id=\"T_fd24d_row1_col4\" class=\"data row1 col4\" >0.064977</td>\n",
       "      <td id=\"T_fd24d_row1_col5\" class=\"data row1 col5\" >0.350997</td>\n",
       "      <td id=\"T_fd24d_row1_col6\" class=\"data row1 col6\" >0.193803</td>\n",
       "      <td id=\"T_fd24d_row1_col7\" class=\"data row1 col7\" >0.266115</td>\n",
       "    </tr>\n",
       "    <tr>\n",
       "      <th id=\"T_fd24d_level0_row2\" class=\"row_heading level0 row2\" >15</th>\n",
       "      <td id=\"T_fd24d_row2_col0\" class=\"data row2 col0\" >0.013428</td>\n",
       "      <td id=\"T_fd24d_row2_col1\" class=\"data row2 col1\" >0.106260</td>\n",
       "      <td id=\"T_fd24d_row2_col2\" class=\"data row2 col2\" >1.000000</td>\n",
       "      <td id=\"T_fd24d_row2_col3\" class=\"data row2 col3\" >0.688166</td>\n",
       "      <td id=\"T_fd24d_row2_col4\" class=\"data row2 col4\" >0.004336</td>\n",
       "      <td id=\"T_fd24d_row2_col5\" class=\"data row2 col5\" >0.241189</td>\n",
       "      <td id=\"T_fd24d_row2_col6\" class=\"data row2 col6\" >0.376477</td>\n",
       "      <td id=\"T_fd24d_row2_col7\" class=\"data row2 col7\" >0.176619</td>\n",
       "    </tr>\n",
       "    <tr>\n",
       "      <th id=\"T_fd24d_level0_row3\" class=\"row_heading level0 row3\" >16</th>\n",
       "      <td id=\"T_fd24d_row3_col0\" class=\"data row3 col0\" >0.026899</td>\n",
       "      <td id=\"T_fd24d_row3_col1\" class=\"data row3 col1\" >0.194935</td>\n",
       "      <td id=\"T_fd24d_row3_col2\" class=\"data row3 col2\" >0.688166</td>\n",
       "      <td id=\"T_fd24d_row3_col3\" class=\"data row3 col3\" >1.000000</td>\n",
       "      <td id=\"T_fd24d_row3_col4\" class=\"data row3 col4\" >0.007774</td>\n",
       "      <td id=\"T_fd24d_row3_col5\" class=\"data row3 col5\" >0.265053</td>\n",
       "      <td id=\"T_fd24d_row3_col6\" class=\"data row3 col6\" >0.322692</td>\n",
       "      <td id=\"T_fd24d_row3_col7\" class=\"data row3 col7\" >0.195674</td>\n",
       "    </tr>\n",
       "    <tr>\n",
       "      <th id=\"T_fd24d_level0_row4\" class=\"row_heading level0 row4\" >19</th>\n",
       "      <td id=\"T_fd24d_row4_col0\" class=\"data row4 col0\" >0.234442</td>\n",
       "      <td id=\"T_fd24d_row4_col1\" class=\"data row4 col1\" >0.064977</td>\n",
       "      <td id=\"T_fd24d_row4_col2\" class=\"data row4 col2\" >0.004336</td>\n",
       "      <td id=\"T_fd24d_row4_col3\" class=\"data row4 col3\" >0.007774</td>\n",
       "      <td id=\"T_fd24d_row4_col4\" class=\"data row4 col4\" >1.000000</td>\n",
       "      <td id=\"T_fd24d_row4_col5\" class=\"data row4 col5\" >0.612394</td>\n",
       "      <td id=\"T_fd24d_row4_col6\" class=\"data row4 col6\" >0.053601</td>\n",
       "      <td id=\"T_fd24d_row4_col7\" class=\"data row4 col7\" >0.494401</td>\n",
       "    </tr>\n",
       "    <tr>\n",
       "      <th id=\"T_fd24d_level0_row5\" class=\"row_heading level0 row5\" >22</th>\n",
       "      <td id=\"T_fd24d_row5_col0\" class=\"data row5 col0\" >0.430545</td>\n",
       "      <td id=\"T_fd24d_row5_col1\" class=\"data row5 col1\" >0.350997</td>\n",
       "      <td id=\"T_fd24d_row5_col2\" class=\"data row5 col2\" >0.241189</td>\n",
       "      <td id=\"T_fd24d_row5_col3\" class=\"data row5 col3\" >0.265053</td>\n",
       "      <td id=\"T_fd24d_row5_col4\" class=\"data row5 col4\" >0.612394</td>\n",
       "      <td id=\"T_fd24d_row5_col5\" class=\"data row5 col5\" >1.000000</td>\n",
       "      <td id=\"T_fd24d_row5_col6\" class=\"data row5 col6\" >0.141186</td>\n",
       "      <td id=\"T_fd24d_row5_col7\" class=\"data row5 col7\" >0.898546</td>\n",
       "    </tr>\n",
       "    <tr>\n",
       "      <th id=\"T_fd24d_level0_row6\" class=\"row_heading level0 row6\" >20</th>\n",
       "      <td id=\"T_fd24d_row6_col0\" class=\"data row6 col0\" >0.123260</td>\n",
       "      <td id=\"T_fd24d_row6_col1\" class=\"data row6 col1\" >0.193803</td>\n",
       "      <td id=\"T_fd24d_row6_col2\" class=\"data row6 col2\" >0.376477</td>\n",
       "      <td id=\"T_fd24d_row6_col3\" class=\"data row6 col3\" >0.322692</td>\n",
       "      <td id=\"T_fd24d_row6_col4\" class=\"data row6 col4\" >0.053601</td>\n",
       "      <td id=\"T_fd24d_row6_col5\" class=\"data row6 col5\" >0.141186</td>\n",
       "      <td id=\"T_fd24d_row6_col6\" class=\"data row6 col6\" >1.000000</td>\n",
       "      <td id=\"T_fd24d_row6_col7\" class=\"data row6 col7\" >0.103622</td>\n",
       "    </tr>\n",
       "    <tr>\n",
       "      <th id=\"T_fd24d_level0_row7\" class=\"row_heading level0 row7\" >21</th>\n",
       "      <td id=\"T_fd24d_row7_col0\" class=\"data row7 col0\" >0.333305</td>\n",
       "      <td id=\"T_fd24d_row7_col1\" class=\"data row7 col1\" >0.266115</td>\n",
       "      <td id=\"T_fd24d_row7_col2\" class=\"data row7 col2\" >0.176619</td>\n",
       "      <td id=\"T_fd24d_row7_col3\" class=\"data row7 col3\" >0.195674</td>\n",
       "      <td id=\"T_fd24d_row7_col4\" class=\"data row7 col4\" >0.494401</td>\n",
       "      <td id=\"T_fd24d_row7_col5\" class=\"data row7 col5\" >0.898546</td>\n",
       "      <td id=\"T_fd24d_row7_col6\" class=\"data row7 col6\" >0.103622</td>\n",
       "      <td id=\"T_fd24d_row7_col7\" class=\"data row7 col7\" >1.000000</td>\n",
       "    </tr>\n",
       "  </tbody>\n",
       "</table>\n"
      ],
      "text/plain": [
       "<pandas.io.formats.style.Styler at 0x151575150>"
      ]
     },
     "metadata": {},
     "output_type": "display_data"
    },
    {
     "name": "stdout",
     "output_type": "stream",
     "text": [
      "Medu\n"
     ]
    },
    {
     "data": {
      "text/html": [
       "<style type=\"text/css\">\n",
       "#T_a37ab_row0_col1, #T_a37ab_row0_col2, #T_a37ab_row0_col3, #T_a37ab_row1_col0, #T_a37ab_row1_col2, #T_a37ab_row2_col0, #T_a37ab_row2_col1, #T_a37ab_row3_col0 {\n",
       "  color: red;\n",
       "}\n",
       "</style>\n",
       "<table id=\"T_a37ab\">\n",
       "  <thead>\n",
       "    <tr>\n",
       "      <th class=\"blank level0\" >&nbsp;</th>\n",
       "      <th id=\"T_a37ab_level0_col0\" class=\"col_heading level0 col0\" >4</th>\n",
       "      <th id=\"T_a37ab_level0_col1\" class=\"col_heading level0 col1\" >1</th>\n",
       "      <th id=\"T_a37ab_level0_col2\" class=\"col_heading level0 col2\" >3</th>\n",
       "      <th id=\"T_a37ab_level0_col3\" class=\"col_heading level0 col3\" >2</th>\n",
       "      <th id=\"T_a37ab_level0_col4\" class=\"col_heading level0 col4\" >0</th>\n",
       "    </tr>\n",
       "  </thead>\n",
       "  <tbody>\n",
       "    <tr>\n",
       "      <th id=\"T_a37ab_level0_row0\" class=\"row_heading level0 row0\" >4</th>\n",
       "      <td id=\"T_a37ab_row0_col0\" class=\"data row0 col0\" >1.000000</td>\n",
       "      <td id=\"T_a37ab_row0_col1\" class=\"data row0 col1\" >0.000008</td>\n",
       "      <td id=\"T_a37ab_row0_col2\" class=\"data row0 col2\" >0.009133</td>\n",
       "      <td id=\"T_a37ab_row0_col3\" class=\"data row0 col3\" >0.001204</td>\n",
       "      <td id=\"T_a37ab_row0_col4\" class=\"data row0 col4\" >0.622654</td>\n",
       "    </tr>\n",
       "    <tr>\n",
       "      <th id=\"T_a37ab_level0_row1\" class=\"row_heading level0 row1\" >1</th>\n",
       "      <td id=\"T_a37ab_row1_col0\" class=\"data row1 col0\" >0.000008</td>\n",
       "      <td id=\"T_a37ab_row1_col1\" class=\"data row1 col1\" >1.000000</td>\n",
       "      <td id=\"T_a37ab_row1_col2\" class=\"data row1 col2\" >0.032217</td>\n",
       "      <td id=\"T_a37ab_row1_col3\" class=\"data row1 col3\" >0.094492</td>\n",
       "      <td id=\"T_a37ab_row1_col4\" class=\"data row1 col4\" >0.095460</td>\n",
       "    </tr>\n",
       "    <tr>\n",
       "      <th id=\"T_a37ab_level0_row2\" class=\"row_heading level0 row2\" >3</th>\n",
       "      <td id=\"T_a37ab_row2_col0\" class=\"data row2 col0\" >0.009133</td>\n",
       "      <td id=\"T_a37ab_row2_col1\" class=\"data row2 col1\" >0.032217</td>\n",
       "      <td id=\"T_a37ab_row2_col2\" class=\"data row2 col2\" >1.000000</td>\n",
       "      <td id=\"T_a37ab_row2_col3\" class=\"data row2 col3\" >0.573506</td>\n",
       "      <td id=\"T_a37ab_row2_col4\" class=\"data row2 col4\" >0.278920</td>\n",
       "    </tr>\n",
       "    <tr>\n",
       "      <th id=\"T_a37ab_level0_row3\" class=\"row_heading level0 row3\" >2</th>\n",
       "      <td id=\"T_a37ab_row3_col0\" class=\"data row3 col0\" >0.001204</td>\n",
       "      <td id=\"T_a37ab_row3_col1\" class=\"data row3 col1\" >0.094492</td>\n",
       "      <td id=\"T_a37ab_row3_col2\" class=\"data row3 col2\" >0.573506</td>\n",
       "      <td id=\"T_a37ab_row3_col3\" class=\"data row3 col3\" >1.000000</td>\n",
       "      <td id=\"T_a37ab_row3_col4\" class=\"data row3 col4\" >0.222983</td>\n",
       "    </tr>\n",
       "    <tr>\n",
       "      <th id=\"T_a37ab_level0_row4\" class=\"row_heading level0 row4\" >0</th>\n",
       "      <td id=\"T_a37ab_row4_col0\" class=\"data row4 col0\" >0.622654</td>\n",
       "      <td id=\"T_a37ab_row4_col1\" class=\"data row4 col1\" >0.095460</td>\n",
       "      <td id=\"T_a37ab_row4_col2\" class=\"data row4 col2\" >0.278920</td>\n",
       "      <td id=\"T_a37ab_row4_col3\" class=\"data row4 col3\" >0.222983</td>\n",
       "      <td id=\"T_a37ab_row4_col4\" class=\"data row4 col4\" >1.000000</td>\n",
       "    </tr>\n",
       "  </tbody>\n",
       "</table>\n"
      ],
      "text/plain": [
       "<pandas.io.formats.style.Styler at 0x151575150>"
      ]
     },
     "metadata": {},
     "output_type": "display_data"
    },
    {
     "name": "stdout",
     "output_type": "stream",
     "text": [
      "Fedu\n"
     ]
    },
    {
     "data": {
      "text/html": [
       "<style type=\"text/css\">\n",
       "#T_b2cd4_row0_col1, #T_b2cd4_row0_col2, #T_b2cd4_row1_col0, #T_b2cd4_row1_col2, #T_b2cd4_row1_col3, #T_b2cd4_row2_col0, #T_b2cd4_row2_col1, #T_b2cd4_row3_col1 {\n",
       "  color: red;\n",
       "}\n",
       "</style>\n",
       "<table id=\"T_b2cd4\">\n",
       "  <thead>\n",
       "    <tr>\n",
       "      <th class=\"blank level0\" >&nbsp;</th>\n",
       "      <th id=\"T_b2cd4_level0_col0\" class=\"col_heading level0 col0\" >4</th>\n",
       "      <th id=\"T_b2cd4_level0_col1\" class=\"col_heading level0 col1\" >1</th>\n",
       "      <th id=\"T_b2cd4_level0_col2\" class=\"col_heading level0 col2\" >2</th>\n",
       "      <th id=\"T_b2cd4_level0_col3\" class=\"col_heading level0 col3\" >3</th>\n",
       "      <th id=\"T_b2cd4_level0_col4\" class=\"col_heading level0 col4\" >0</th>\n",
       "    </tr>\n",
       "  </thead>\n",
       "  <tbody>\n",
       "    <tr>\n",
       "      <th id=\"T_b2cd4_level0_row0\" class=\"row_heading level0 row0\" >4</th>\n",
       "      <td id=\"T_b2cd4_row0_col0\" class=\"data row0 col0\" >1.000000</td>\n",
       "      <td id=\"T_b2cd4_row0_col1\" class=\"data row0 col1\" >0.000178</td>\n",
       "      <td id=\"T_b2cd4_row0_col2\" class=\"data row0 col2\" >0.048803</td>\n",
       "      <td id=\"T_b2cd4_row0_col3\" class=\"data row0 col3\" >0.060711</td>\n",
       "      <td id=\"T_b2cd4_row0_col4\" class=\"data row0 col4\" >0.683319</td>\n",
       "    </tr>\n",
       "    <tr>\n",
       "      <th id=\"T_b2cd4_level0_row1\" class=\"row_heading level0 row1\" >1</th>\n",
       "      <td id=\"T_b2cd4_row1_col0\" class=\"data row1 col0\" >0.000178</td>\n",
       "      <td id=\"T_b2cd4_row1_col1\" class=\"data row1 col1\" >1.000000</td>\n",
       "      <td id=\"T_b2cd4_row1_col2\" class=\"data row1 col2\" >0.043924</td>\n",
       "      <td id=\"T_b2cd4_row1_col3\" class=\"data row1 col3\" >0.047234</td>\n",
       "      <td id=\"T_b2cd4_row1_col4\" class=\"data row1 col4\" >0.232189</td>\n",
       "    </tr>\n",
       "    <tr>\n",
       "      <th id=\"T_b2cd4_level0_row2\" class=\"row_heading level0 row2\" >2</th>\n",
       "      <td id=\"T_b2cd4_row2_col0\" class=\"data row2 col0\" >0.048803</td>\n",
       "      <td id=\"T_b2cd4_row2_col1\" class=\"data row2 col1\" >0.043924</td>\n",
       "      <td id=\"T_b2cd4_row2_col2\" class=\"data row2 col2\" >1.000000</td>\n",
       "      <td id=\"T_b2cd4_row2_col3\" class=\"data row2 col3\" >0.974375</td>\n",
       "      <td id=\"T_b2cd4_row2_col4\" class=\"data row2 col4\" >0.429213</td>\n",
       "    </tr>\n",
       "    <tr>\n",
       "      <th id=\"T_b2cd4_level0_row3\" class=\"row_heading level0 row3\" >3</th>\n",
       "      <td id=\"T_b2cd4_row3_col0\" class=\"data row3 col0\" >0.060711</td>\n",
       "      <td id=\"T_b2cd4_row3_col1\" class=\"data row3 col1\" >0.047234</td>\n",
       "      <td id=\"T_b2cd4_row3_col2\" class=\"data row3 col2\" >0.974375</td>\n",
       "      <td id=\"T_b2cd4_row3_col3\" class=\"data row3 col3\" >1.000000</td>\n",
       "      <td id=\"T_b2cd4_row3_col4\" class=\"data row3 col4\" >0.433406</td>\n",
       "    </tr>\n",
       "    <tr>\n",
       "      <th id=\"T_b2cd4_level0_row4\" class=\"row_heading level0 row4\" >0</th>\n",
       "      <td id=\"T_b2cd4_row4_col0\" class=\"data row4 col0\" >0.683319</td>\n",
       "      <td id=\"T_b2cd4_row4_col1\" class=\"data row4 col1\" >0.232189</td>\n",
       "      <td id=\"T_b2cd4_row4_col2\" class=\"data row4 col2\" >0.429213</td>\n",
       "      <td id=\"T_b2cd4_row4_col3\" class=\"data row4 col3\" >0.433406</td>\n",
       "      <td id=\"T_b2cd4_row4_col4\" class=\"data row4 col4\" >1.000000</td>\n",
       "    </tr>\n",
       "  </tbody>\n",
       "</table>\n"
      ],
      "text/plain": [
       "<pandas.io.formats.style.Styler at 0x151575150>"
      ]
     },
     "metadata": {},
     "output_type": "display_data"
    },
    {
     "name": "stdout",
     "output_type": "stream",
     "text": [
      "Mjob\n"
     ]
    },
    {
     "data": {
      "text/html": [
       "<style type=\"text/css\">\n",
       "#T_5b62d_row0_col1, #T_5b62d_row0_col3, #T_5b62d_row0_col4, #T_5b62d_row1_col0, #T_5b62d_row1_col2, #T_5b62d_row2_col1, #T_5b62d_row2_col3, #T_5b62d_row3_col0, #T_5b62d_row3_col2, #T_5b62d_row4_col0 {\n",
       "  color: red;\n",
       "}\n",
       "</style>\n",
       "<table id=\"T_5b62d\">\n",
       "  <thead>\n",
       "    <tr>\n",
       "      <th class=\"blank level0\" >&nbsp;</th>\n",
       "      <th id=\"T_5b62d_level0_col0\" class=\"col_heading level0 col0\" >at_home</th>\n",
       "      <th id=\"T_5b62d_level0_col1\" class=\"col_heading level0 col1\" >health</th>\n",
       "      <th id=\"T_5b62d_level0_col2\" class=\"col_heading level0 col2\" >other</th>\n",
       "      <th id=\"T_5b62d_level0_col3\" class=\"col_heading level0 col3\" >services</th>\n",
       "      <th id=\"T_5b62d_level0_col4\" class=\"col_heading level0 col4\" >teacher</th>\n",
       "    </tr>\n",
       "  </thead>\n",
       "  <tbody>\n",
       "    <tr>\n",
       "      <th id=\"T_5b62d_level0_row0\" class=\"row_heading level0 row0\" >at_home</th>\n",
       "      <td id=\"T_5b62d_row0_col0\" class=\"data row0 col0\" >1.000000</td>\n",
       "      <td id=\"T_5b62d_row0_col1\" class=\"data row0 col1\" >0.001033</td>\n",
       "      <td id=\"T_5b62d_row0_col2\" class=\"data row0 col2\" >0.361673</td>\n",
       "      <td id=\"T_5b62d_row0_col3\" class=\"data row0 col3\" >0.009808</td>\n",
       "      <td id=\"T_5b62d_row0_col4\" class=\"data row0 col4\" >0.041461</td>\n",
       "    </tr>\n",
       "    <tr>\n",
       "      <th id=\"T_5b62d_level0_row1\" class=\"row_heading level0 row1\" >health</th>\n",
       "      <td id=\"T_5b62d_row1_col0\" class=\"data row1 col0\" >0.001033</td>\n",
       "      <td id=\"T_5b62d_row1_col1\" class=\"data row1 col1\" >1.000000</td>\n",
       "      <td id=\"T_5b62d_row1_col2\" class=\"data row1 col2\" >0.003098</td>\n",
       "      <td id=\"T_5b62d_row1_col3\" class=\"data row1 col3\" >0.149737</td>\n",
       "      <td id=\"T_5b62d_row1_col4\" class=\"data row1 col4\" >0.127065</td>\n",
       "    </tr>\n",
       "    <tr>\n",
       "      <th id=\"T_5b62d_level0_row2\" class=\"row_heading level0 row2\" >other</th>\n",
       "      <td id=\"T_5b62d_row2_col0\" class=\"data row2 col0\" >0.361673</td>\n",
       "      <td id=\"T_5b62d_row2_col1\" class=\"data row2 col1\" >0.003098</td>\n",
       "      <td id=\"T_5b62d_row2_col2\" class=\"data row2 col2\" >1.000000</td>\n",
       "      <td id=\"T_5b62d_row2_col3\" class=\"data row2 col3\" >0.030628</td>\n",
       "      <td id=\"T_5b62d_row2_col4\" class=\"data row2 col4\" >0.131010</td>\n",
       "    </tr>\n",
       "    <tr>\n",
       "      <th id=\"T_5b62d_level0_row3\" class=\"row_heading level0 row3\" >services</th>\n",
       "      <td id=\"T_5b62d_row3_col0\" class=\"data row3 col0\" >0.009808</td>\n",
       "      <td id=\"T_5b62d_row3_col1\" class=\"data row3 col1\" >0.149737</td>\n",
       "      <td id=\"T_5b62d_row3_col2\" class=\"data row3 col2\" >0.030628</td>\n",
       "      <td id=\"T_5b62d_row3_col3\" class=\"data row3 col3\" >1.000000</td>\n",
       "      <td id=\"T_5b62d_row3_col4\" class=\"data row3 col4\" >0.785632</td>\n",
       "    </tr>\n",
       "    <tr>\n",
       "      <th id=\"T_5b62d_level0_row4\" class=\"row_heading level0 row4\" >teacher</th>\n",
       "      <td id=\"T_5b62d_row4_col0\" class=\"data row4 col0\" >0.041461</td>\n",
       "      <td id=\"T_5b62d_row4_col1\" class=\"data row4 col1\" >0.127065</td>\n",
       "      <td id=\"T_5b62d_row4_col2\" class=\"data row4 col2\" >0.131010</td>\n",
       "      <td id=\"T_5b62d_row4_col3\" class=\"data row4 col3\" >0.785632</td>\n",
       "      <td id=\"T_5b62d_row4_col4\" class=\"data row4 col4\" >1.000000</td>\n",
       "    </tr>\n",
       "  </tbody>\n",
       "</table>\n"
      ],
      "text/plain": [
       "<pandas.io.formats.style.Styler at 0x151575150>"
      ]
     },
     "metadata": {},
     "output_type": "display_data"
    }
   ],
   "source": [
    "#Create the function to color the numerical value into red color\n",
    "def color_significant_pvalues(value):\n",
    "    if value < 0.05:\n",
    "        return 'color:red'\n",
    "    \n",
    "for item in dunn_res_lst:\n",
    "    feat = item.get('feature')\n",
    "    pvalue = item.get('pvalues')\n",
    "\n",
    "    pvalue = pvalue.style.applymap(color_significant_pvalues)\n",
    "    print(feat)\n",
    "    display(pvalue)"
   ]
  },
  {
   "attachments": {},
   "cell_type": "markdown",
   "metadata": {},
   "source": [
    "## 6. Student t-Test Analysis of Student's grade \n",
    "\n",
    "We will use student t-test to determine if providing extra educational support does improves students' grades\n",
    "\n",
    "- Null Hypothesis: There is no significant difference in the mean students' grades between the groups that received extra educational support and the group that did not receive extra educational support.\n",
    "- Alternate Hypothesis: There is a significant difference in the mean students' grades between the groups that received extra educational support and the group that did not receive extra educational support."
   ]
  },
  {
   "cell_type": "code",
   "execution_count": 27,
   "metadata": {},
   "outputs": [],
   "source": [
    "import pandas as pd\n",
    "from scipy.stats import ttest_ind\n",
    "\n",
    "def student_t_test(feat1, grade ,df, alpha):\n",
    "    \n",
    "    group1 = df[df[feat1]== 'yes'][grade]\n",
    "    group2 = df[df[feat1]== 'no'][grade]\n",
    "\n",
    "    stat, p = ttest_ind(group1, group2)\n",
    "    \n",
    "    if p < alpha:\n",
    "        print(f\"Test Statistic: {stat}, p_value: {p} < alpha: {alpha}, {feat1} does improve grades\")\n",
    "    else:\n",
    "        print(f\"Test Statistic: {stat}, p_value: {p} > alpha: {alpha}, {feat1} does not improve grades\")"
   ]
  },
  {
   "cell_type": "code",
   "execution_count": 28,
   "metadata": {},
   "outputs": [
    {
     "name": "stdout",
     "output_type": "stream",
     "text": [
      "Test Statistic: -1.6468658378374499, p_value: 0.10038496363910418 > alpha: 0.05, schoolsup does not improve grades\n"
     ]
    }
   ],
   "source": [
    "student_t_test('schoolsup', 'G3', data_mat, 0.05)"
   ]
  },
  {
   "attachments": {},
   "cell_type": "markdown",
   "metadata": {},
   "source": [
    "With student t-test, we can conclude that providing extra educational support does not improve grades"
   ]
  },
  {
   "cell_type": "code",
   "execution_count": 29,
   "metadata": {},
   "outputs": [
    {
     "name": "stdout",
     "output_type": "stream",
     "text": [
      "Test Statistic: -0.7768559575314726, p_value: 0.43771108589489893 > alpha: 0.05, famsup does not improve grades\n"
     ]
    }
   ],
   "source": [
    "student_t_test('famsup', 'G3', data_mat, 0.05)"
   ]
  },
  {
   "attachments": {},
   "cell_type": "markdown",
   "metadata": {},
   "source": [
    "Similarly, with student t-test, we an conclude providing family education support does not improve grades"
   ]
  }
 ],
 "metadata": {
  "kernelspec": {
   "display_name": ".venv",
   "language": "python",
   "name": "python3"
  },
  "language_info": {
   "codemirror_mode": {
    "name": "ipython",
    "version": 3
   },
   "file_extension": ".py",
   "mimetype": "text/x-python",
   "name": "python",
   "nbconvert_exporter": "python",
   "pygments_lexer": "ipython3",
   "version": "3.11.2"
  },
  "orig_nbformat": 4,
  "vscode": {
   "interpreter": {
    "hash": "cdf7a1d2f4c7f1c5c00d149c2ff79f540019fc066ddb493c57072ce97e02e4cb"
   }
  }
 },
 "nbformat": 4,
 "nbformat_minor": 2
}
